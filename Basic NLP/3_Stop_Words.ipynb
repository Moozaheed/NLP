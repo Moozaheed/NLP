{
  "nbformat": 4,
  "nbformat_minor": 0,
  "metadata": {
    "colab": {
      "provenance": []
    },
    "kernelspec": {
      "name": "python3",
      "display_name": "Python 3"
    },
    "language_info": {
      "name": "python"
    }
  },
  "cells": [
    {
      "cell_type": "markdown",
      "source": [
        "# **Stop Words**\n",
        "\n",
        "**Stop Words:** A stop word is a commonly used word (such as “the”, “a”, “an”, “in”) that a search engine has been programmed to ignore, both when indexing entries for searching and when retrieving them as the result of a search query. \n",
        "\n",
        "*   **Sample text with Stop Words: I like reading, so I read**\n",
        "*   **Without Stop Words: like, reading, read**\n",
        "\n",
        "We would not want these words to take up space in our database, or taking up valuable processing time. For this, we can remove them easily, by storing a list of words that you consider to stop words."
      ],
      "metadata": {
        "id": "RC_xazi3RcVQ"
      }
    },
    {
      "cell_type": "code",
      "execution_count": null,
      "metadata": {
        "id": "1z0yd_S7Qn5w"
      },
      "outputs": [],
      "source": [
        "import spacy\n",
        "nlp =spacy.load('en_core_web_sm')"
      ]
    },
    {
      "cell_type": "code",
      "source": [
        "print(nlp.Defaults.stop_words)"
      ],
      "metadata": {
        "id": "AfmJ54hURjGZ"
      },
      "execution_count": null,
      "outputs": []
    },
    {
      "cell_type": "code",
      "source": [
        "len(nlp.Defaults.stop_words)"
      ],
      "metadata": {
        "id": "HPxcADl7Rlfo"
      },
      "execution_count": null,
      "outputs": []
    },
    {
      "cell_type": "code",
      "source": [
        "nlp.vocab['always'].is_stop"
      ],
      "metadata": {
        "id": "wQUKtZ_aRmoN"
      },
      "execution_count": null,
      "outputs": []
    },
    {
      "cell_type": "code",
      "source": [
        "nlp.vocab['Mozahed'].is_stop"
      ],
      "metadata": {
        "id": "MBGdYxAuRoPn"
      },
      "execution_count": null,
      "outputs": []
    },
    {
      "cell_type": "markdown",
      "source": [
        "# **Making Stop Word**"
      ],
      "metadata": {
        "id": "Gih2X3yARz5i"
      }
    },
    {
      "cell_type": "code",
      "source": [
        "nlp.Defaults.stop_words.add('Mozahed')\n",
        "nlp.vocab['Mozahed'].is_stop=True"
      ],
      "metadata": {
        "id": "AlA3FRY7Rp6P"
      },
      "execution_count": null,
      "outputs": []
    },
    {
      "cell_type": "code",
      "source": [
        "nlp.vocab['Mozahed'].is_stop"
      ],
      "metadata": {
        "id": "lg5pw4elRrTd"
      },
      "execution_count": null,
      "outputs": []
    },
    {
      "cell_type": "code",
      "source": [
        "len(nlp.Defaults.stop_words)"
      ],
      "metadata": {
        "id": "K-Rka2-yR5CK"
      },
      "execution_count": null,
      "outputs": []
    },
    {
      "cell_type": "markdown",
      "source": [
        "# **Removing Stop Word**"
      ],
      "metadata": {
        "id": "8oiJLa9YR-35"
      }
    },
    {
      "cell_type": "code",
      "source": [
        "nlp.Defaults.stop_words.remove('no')\n",
        "nlp.vocab['no'].is_stop=False"
      ],
      "metadata": {
        "id": "McLwOBufSAfI"
      },
      "execution_count": null,
      "outputs": []
    },
    {
      "cell_type": "code",
      "source": [
        "nlp.vocab['no'].is_stop"
      ],
      "metadata": {
        "id": "WSPZKRqDSEov"
      },
      "execution_count": null,
      "outputs": []
    },
    {
      "cell_type": "code",
      "source": [
        "len(nlp.Defaults.stop_words)"
      ],
      "metadata": {
        "id": "cvKhO4GlSCLg"
      },
      "execution_count": null,
      "outputs": []
    }
  ]
}