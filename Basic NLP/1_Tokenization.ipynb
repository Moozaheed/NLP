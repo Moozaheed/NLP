{
  "nbformat": 4,
  "nbformat_minor": 0,
  "metadata": {
    "colab": {
      "provenance": []
    },
    "kernelspec": {
      "name": "python3",
      "display_name": "Python 3"
    }
  },
  "cells": [
    {
      "cell_type": "markdown",
      "metadata": {
        "id": "F90EfebNk8dZ"
      },
      "source": [
        "# **Tokenization**\n",
        "**Tokenization is the process of tokenizing or splitting a string, text into a list of tokens.**One can think of token as parts like a word is a token in a sentence, and a sentence is a token in a paragraph."
      ]
    },
    {
      "cell_type": "code",
      "metadata": {
        "id": "KWEtX3Ekl-gg"
      },
      "source": [
        "!pip install spacy\n",
        "import spacy"
      ],
      "execution_count": null,
      "outputs": []
    },
    {
      "cell_type": "code",
      "metadata": {
        "id": "YnhhBMmdk9UO"
      },
      "source": [
        "s1 = 'Apple is looking at buying U.K. startup for $1 billion !'\n",
        "s2 = 'Hello all, We are here to help you! email support@udemy.com or visit us at http://www.udemy.com!'\n",
        "s3 = '10km cab ride almost costs $20 in NYC'\n",
        "s4 = \"Let's watch a movie together.\""
      ],
      "execution_count": 2,
      "outputs": []
    },
    {
      "cell_type": "code",
      "metadata": {
        "id": "PEnsIVEqmHvB"
      },
      "source": [
        "nlp = spacy.load(name = 'en_core_web_sm')"
      ],
      "execution_count": 3,
      "outputs": []
    },
    {
      "cell_type": "markdown",
      "source": [
        "##Another Way\n"
      ],
      "metadata": {
        "id": "p-sW4juqIcDx"
      }
    },
    {
      "cell_type": "code",
      "source": [
        "!python -m spacy download en_core_web_md\n",
        "import en_core_web_md\n",
        "nlp_1 = en_core_web_md.load() #  nlp_1 = spacy.load(name = 'en_core_web_md')"
      ],
      "metadata": {
        "id": "XscuVdW1Ir6O"
      },
      "execution_count": null,
      "outputs": []
    },
    {
      "cell_type": "markdown",
      "source": [
        "#Starts From Here"
      ],
      "metadata": {
        "id": "wY_gQmCoIy28"
      }
    },
    {
      "cell_type": "code",
      "metadata": {
        "id": "kEfsvpLfoiWR"
      },
      "source": [
        "doc1 = nlp(s1)"
      ],
      "execution_count": 10,
      "outputs": []
    },
    {
      "cell_type": "code",
      "metadata": {
        "id": "MAaRj01dowPx",
        "colab": {
          "base_uri": "https://localhost:8080/"
        },
        "outputId": "a919193f-4184-4044-d962-315469eeeb88"
      },
      "source": [
        "for token in doc1:\n",
        "  print(token)"
      ],
      "execution_count": 11,
      "outputs": [
        {
          "output_type": "stream",
          "name": "stdout",
          "text": [
            "Apple\n",
            "is\n",
            "looking\n",
            "at\n",
            "buying\n",
            "U.K.\n",
            "startup\n",
            "for\n",
            "$\n",
            "1\n",
            "billion\n",
            "!\n"
          ]
        }
      ]
    },
    {
      "cell_type": "code",
      "metadata": {
        "id": "lt0eW9VoowUA",
        "colab": {
          "base_uri": "https://localhost:8080/"
        },
        "outputId": "3861cddc-af8b-4b2c-9c40-99fe36dfcfc2"
      },
      "source": [
        "doc2 = nlp(s2)\n",
        "for token in doc2:\n",
        "  print(token)"
      ],
      "execution_count": 12,
      "outputs": [
        {
          "output_type": "stream",
          "name": "stdout",
          "text": [
            "Hello\n",
            "all\n",
            ",\n",
            "We\n",
            "are\n",
            "here\n",
            "to\n",
            "help\n",
            "you\n",
            "!\n",
            "email\n",
            "support@udemy.com\n",
            "or\n",
            "visit\n",
            "us\n",
            "at\n",
            "http://www.udemy.com\n",
            "!\n"
          ]
        }
      ]
    },
    {
      "cell_type": "code",
      "metadata": {
        "id": "YnX58gjUowYi",
        "colab": {
          "base_uri": "https://localhost:8080/"
        },
        "outputId": "e044b274-d50a-47df-cb60-8396c2e7b964"
      },
      "source": [
        "doc3 = nlp(s3)\n",
        "for token in doc3:\n",
        "  print(token)"
      ],
      "execution_count": 13,
      "outputs": [
        {
          "output_type": "stream",
          "name": "stdout",
          "text": [
            "10\n",
            "km\n",
            "cab\n",
            "ride\n",
            "almost\n",
            "costs\n",
            "$\n",
            "20\n",
            "in\n",
            "NYC\n"
          ]
        }
      ]
    },
    {
      "cell_type": "code",
      "metadata": {
        "id": "x3VUnAtOowcI",
        "colab": {
          "base_uri": "https://localhost:8080/"
        },
        "outputId": "c5e6800a-2215-42bb-9647-c94a03c15699"
      },
      "source": [
        "doc4 = nlp(s4)\n",
        "for token in doc4:\n",
        "  print(token)"
      ],
      "execution_count": 14,
      "outputs": [
        {
          "output_type": "stream",
          "name": "stdout",
          "text": [
            "Let\n",
            "'s\n",
            "watch\n",
            "a\n",
            "movie\n",
            "together\n",
            ".\n"
          ]
        }
      ]
    },
    {
      "cell_type": "code",
      "metadata": {
        "id": "TTrjSjUhowgC",
        "colab": {
          "base_uri": "https://localhost:8080/"
        },
        "outputId": "46c3f67c-349e-4753-d07a-524d46191a07"
      },
      "source": [
        "type(doc4)"
      ],
      "execution_count": 15,
      "outputs": [
        {
          "output_type": "execute_result",
          "data": {
            "text/plain": [
              "spacy.tokens.doc.Doc"
            ]
          },
          "metadata": {},
          "execution_count": 15
        }
      ]
    },
    {
      "cell_type": "code",
      "metadata": {
        "id": "54fQnfCsowlh",
        "colab": {
          "base_uri": "https://localhost:8080/"
        },
        "outputId": "9fc1d78f-ff02-44bb-beb4-e35ead808e2a"
      },
      "source": [
        "len(doc4)"
      ],
      "execution_count": 20,
      "outputs": [
        {
          "output_type": "execute_result",
          "data": {
            "text/plain": [
              "7"
            ]
          },
          "metadata": {},
          "execution_count": 20
        }
      ]
    },
    {
      "cell_type": "code",
      "metadata": {
        "id": "lTi9E9Xrqx3D",
        "colab": {
          "base_uri": "https://localhost:8080/"
        },
        "outputId": "24199559-07ef-4704-8642-e9c7c45b081e"
      },
      "source": [
        "doc4[0]"
      ],
      "execution_count": 19,
      "outputs": [
        {
          "output_type": "execute_result",
          "data": {
            "text/plain": [
              "Let"
            ]
          },
          "metadata": {},
          "execution_count": 19
        }
      ]
    },
    {
      "cell_type": "code",
      "metadata": {
        "id": "S2EvheKZq6BI",
        "colab": {
          "base_uri": "https://localhost:8080/"
        },
        "outputId": "8ced3eea-326c-48e7-96ca-cd74ae51f2e7"
      },
      "source": [
        "doc4[2:5]"
      ],
      "execution_count": 18,
      "outputs": [
        {
          "output_type": "execute_result",
          "data": {
            "text/plain": [
              "watch a movie"
            ]
          },
          "metadata": {},
          "execution_count": 18
        }
      ]
    },
    {
      "cell_type": "code",
      "metadata": {
        "id": "c2tdLPmoq-lj",
        "colab": {
          "base_uri": "https://localhost:8080/"
        },
        "outputId": "274a9cd8-0942-4ac1-a5ba-c149b907f0b8"
      },
      "source": [
        "doc4[-1]"
      ],
      "execution_count": 17,
      "outputs": [
        {
          "output_type": "execute_result",
          "data": {
            "text/plain": [
              "."
            ]
          },
          "metadata": {},
          "execution_count": 17
        }
      ]
    }
  ]
}