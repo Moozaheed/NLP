{
  "cells": [
    {
      "cell_type": "markdown",
      "metadata": {
        "id": "dnn8KUdHKqeT"
      },
      "source": [
        "# Matching\n",
        "The Matcher find words and phrases using rules describing their token attributes. Rules can refer to token annotations (like the text or part-of-speech tags), as well as lexical attributes like **Token.is_punct**. Applying the matcher to a Doc gives you access to the matched tokens in context. [For more](https://spacy.io/api/matcher/). To make patterns click [here](https://demos.explosion.ai/matcher).\n",
        "\n"
      ]
    },
    {
      "cell_type": "code",
      "execution_count": null,
      "metadata": {
        "id": "anqLTvmYKpYC"
      },
      "outputs": [],
      "source": [
        "# Creating Pattern\n",
        "pattern_1 = [{'LOWER': 'helllo'},{'LOWER': 'world'}]\n",
        "pattern_2 = [{'LOWER': 'hello'},{'IS_PUNCT': True},{'LOWER': 'world'}]"
      ]
    },
    {
      "cell_type": "markdown",
      "metadata": {
        "id": "-tWggNeKNX3O"
      },
      "source": [
        "# **Rule-Based Matching**\n",
        "Compared to using regular expressions on raw text. It also give access to the tokens within the document and their relationships. This means we can easily access and analyze the surrounding tokens, merge spans into single tokens or add entries to the named entities in **doc.ents**. [For more](https://spacy.io/usage/rule-based-matching). \n",
        "\n",
        "\n"
      ]
    },
    {
      "cell_type": "code",
      "execution_count": null,
      "metadata": {
        "id": "dwiy25dfOETN"
      },
      "outputs": [],
      "source": [
        "import spacy\n",
        "nlp=spacy.load('en_core_web_sm')"
      ]
    },
    {
      "cell_type": "code",
      "execution_count": null,
      "metadata": {
        "id": "rIQpA-qDOGUR"
      },
      "outputs": [],
      "source": [
        "from spacy.matcher import Matcher\n",
        "matcher=Matcher(nlp.vocab)"
      ]
    },
    {
      "cell_type": "code",
      "execution_count": null,
      "metadata": {
        "id": "jHxdK5idOISN"
      },
      "outputs": [],
      "source": [
        "# Add patterns to matcher object\n",
        "# Add a match rule to matcher, A match rule consists of,\n",
        "# 1) An ID key\n",
        "# 2) pattern\n",
        "matcher.add('Hello World',[pattern_2])"
      ]
    },
    {
      "cell_type": "code",
      "execution_count": null,
      "metadata": {
        "id": "oT290qm0OgXp"
      },
      "outputs": [],
      "source": [
        "# Creating a document\n",
        "doc = nlp(\" Hello World nor ld' are the first two printed words for most of the programers, printing 'Hello—World' most for beginners\")"
      ]
    },
    {
      "cell_type": "markdown",
      "metadata": {
        "id": "LaA9nICGOkc_"
      },
      "source": [
        "### Finding the matches"
      ]
    },
    {
      "cell_type": "code",
      "execution_count": null,
      "metadata": {
        "colab": {
          "base_uri": "https://localhost:8080/"
        },
        "id": "QQLsMv4vPHwU",
        "outputId": "f1fd4be8-91b4-452a-b980-d940db1d8757"
      },
      "outputs": [
        {
          "name": "stdout",
          "output_type": "stream",
          "text": [
            "[(8585552006568828647, 20, 23)]\n"
          ]
        }
      ],
      "source": [
        "find_matches=matcher(doc)\n",
        "print(find_matches)"
      ]
    },
    {
      "cell_type": "code",
      "execution_count": null,
      "metadata": {
        "colab": {
          "base_uri": "https://localhost:8080/"
        },
        "id": "Hl8cUithPRmU",
        "outputId": "b685ca34-bd9a-489a-90ba-fe6f211d28fb"
      },
      "outputs": [
        {
          "name": "stdout",
          "output_type": "stream",
          "text": [
            "8585552006568828647 Hello World 20 23 Hello—World\n"
          ]
        }
      ],
      "source": [
        "for match_id,start,end in find_matches:\n",
        "  string_id =nlp.vocab.strings[match_id]\n",
        "  span=doc[start:end]\n",
        "  print(match_id,string_id,start,end,span.text)"
      ]
    },
    {
      "attachments": {},
      "cell_type": "markdown",
      "metadata": {
        "id": "7H5gN9jcN9kl"
      },
      "source": [
        "# **Phase Matching**\n",
        " If we need to match large terminology lists, we can also use the PhraseMatcher and create Doc objects instead of token patterns, which is much more efficient overall. The Doc patterns can contain single or multiple tokens."
      ]
    },
    {
      "cell_type": "code",
      "execution_count": null,
      "metadata": {
        "id": "2m0gGLEJQK0j"
      },
      "outputs": [],
      "source": [
        "import spacy\n",
        "nlp=spacy.load('en_core_web_sm')"
      ]
    },
    {
      "cell_type": "code",
      "execution_count": null,
      "metadata": {
        "id": "3jhzGfwGQMna"
      },
      "outputs": [],
      "source": [
        "from spacy.matcher import PhraseMatcher\n",
        "matcher= PhraseMatcher(nlp.vocab)"
      ]
    },
    {
      "cell_type": "code",
      "execution_count": null,
      "metadata": {
        "id": "Z0caPWkMQNxz"
      },
      "outputs": [],
      "source": [
        "phrase_list=[\"Barack Obama\", \"Angela Merkel\", \"Washington, D.C.\"]"
      ]
    },
    {
      "cell_type": "code",
      "execution_count": null,
      "metadata": {
        "id": "GD2rr7sQQPtZ"
      },
      "outputs": [],
      "source": [
        "phrase_patterns=[nlp(text) for text in phrase_list]"
      ]
    },
    {
      "cell_type": "code",
      "execution_count": null,
      "metadata": {
        "colab": {
          "base_uri": "https://localhost:8080/"
        },
        "id": "DhgjM1DEQRI5",
        "outputId": "75358e24-05d8-4d22-ab63-ce42aa654a19"
      },
      "outputs": [
        {
          "data": {
            "text/plain": [
              "[Barack Obama, Angela Merkel, Washington, D.C.]"
            ]
          },
          "execution_count": 12,
          "metadata": {},
          "output_type": "execute_result"
        }
      ],
      "source": [
        "phrase_patterns"
      ]
    },
    {
      "cell_type": "code",
      "execution_count": null,
      "metadata": {
        "colab": {
          "base_uri": "https://localhost:8080/"
        },
        "id": "YQqwg8oxQSHY",
        "outputId": "e571fa38-43f0-48e7-a32d-cc9fe4883174"
      },
      "outputs": [
        {
          "data": {
            "text/plain": [
              "spacy.tokens.doc.Doc"
            ]
          },
          "execution_count": 13,
          "metadata": {},
          "output_type": "execute_result"
        }
      ],
      "source": [
        "type(phrase_patterns[0])"
      ]
    },
    {
      "cell_type": "code",
      "execution_count": null,
      "metadata": {
        "id": "waR4xj9UQTuh"
      },
      "outputs": [],
      "source": [
        "matcher.add(\"TerminologyList\",None,*phrase_patterns)"
      ]
    },
    {
      "cell_type": "code",
      "execution_count": null,
      "metadata": {
        "id": "XlzvhZKkQVMh"
      },
      "outputs": [],
      "source": [
        "doc_3 = nlp(\" German Chancellor Angela Merkel and US President Barack Obama \"\n",
        "      \" converse in the Oval Office inside the White House in Washington, D.C. \")"
      ]
    },
    {
      "cell_type": "code",
      "execution_count": null,
      "metadata": {
        "colab": {
          "base_uri": "https://localhost:8080/"
        },
        "id": "GolSOIk-QWb3",
        "outputId": "e3f52e43-d020-418b-cdbb-607a9c60b62a"
      },
      "outputs": [
        {
          "name": "stdout",
          "output_type": "stream",
          "text": [
            "[(3766102292120407359, 3, 5), (3766102292120407359, 8, 10), (3766102292120407359, 21, 24)]\n"
          ]
        }
      ],
      "source": [
        "find_matches = matcher(doc_3)\n",
        "print(find_matches)"
      ]
    },
    {
      "cell_type": "code",
      "execution_count": null,
      "metadata": {
        "colab": {
          "base_uri": "https://localhost:8080/"
        },
        "id": "acNxQDcbQaDO",
        "outputId": "d19774d1-c367-4866-b428-49381c10e92e"
      },
      "outputs": [
        {
          "name": "stdout",
          "output_type": "stream",
          "text": [
            "3766102292120407359 TerminologyList 3 5 nor ld\n",
            "3766102292120407359 TerminologyList 8 10 first two\n",
            "3766102292120407359 TerminologyList 21 24 —World'\n"
          ]
        }
      ],
      "source": [
        "for match_id,start,end in find_matches:\n",
        "  string_id =nlp.vocab.strings[match_id]\n",
        "  span=doc[start:end]\n",
        "  print(match_id,string_id,start,end,span.text)"
      ]
    }
  ],
  "metadata": {
    "colab": {
      "provenance": []
    },
    "kernelspec": {
      "display_name": "Python 3",
      "name": "python3"
    },
    "language_info": {
      "name": "python"
    }
  },
  "nbformat": 4,
  "nbformat_minor": 0
}
