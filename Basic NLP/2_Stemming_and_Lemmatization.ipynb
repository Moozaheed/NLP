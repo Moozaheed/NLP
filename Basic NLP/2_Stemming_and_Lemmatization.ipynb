{
  "nbformat": 4,
  "nbformat_minor": 0,
  "metadata": {
    "colab": {
      "provenance": []
    },
    "kernelspec": {
      "name": "python3",
      "display_name": "Python 3"
    }
  },
  "cells": [
    {
      "cell_type": "markdown",
      "metadata": {
        "id": "TNcphyUxXvow"
      },
      "source": [
        "# **Stemming and Lemmatization**\n",
        " It looks beyond word reduction and considers a language’s full vocabulary to apply a morphological analysis to words, aiming to remove inflectional endings only and to return the base or dictionary form of a word, which is known as the lemma.\n",
        " \n",
        "Original Word ---> Root Word (lemma)\n",
        "\n",
        "1.    meeting    -------->   meet                \n",
        "2.    was       --------------> be\n",
        "\n",
        "1.   mice       ----------->   mouse\n",
        "2.   play/played/playing --> Play\n"
      ]
    },
    {
      "cell_type": "code",
      "metadata": {
        "id": "3uQQZyfRh5cG"
      },
      "source": [
        "import nltk"
      ],
      "execution_count": 1,
      "outputs": []
    },
    {
      "cell_type": "markdown",
      "source": [
        "##There is two type of stemmer (Porterstemmer and Snowballstemmer)\n",
        "\n"
      ],
      "metadata": {
        "id": "3xOQ1CM3M0hc"
      }
    },
    {
      "cell_type": "code",
      "metadata": {
        "id": "8wpXkqgFh9le"
      },
      "source": [
        "from nltk.stem.porter import PorterStemmer\n",
        "from nltk.stem.snowball import  SnowballStemmer"
      ],
      "execution_count": 2,
      "outputs": []
    },
    {
      "cell_type": "code",
      "metadata": {
        "id": "WaiuXm4NiOw1"
      },
      "source": [
        "p_stemmer = PorterStemmer()\n",
        "s_stemmer = SnowballStemmer(language='english')"
      ],
      "execution_count": 3,
      "outputs": []
    },
    {
      "cell_type": "code",
      "metadata": {
        "id": "HTx_Asm6XwsV"
      },
      "source": [
        "words = ['run','runner','running','ran','runs','easily','fairly']"
      ],
      "execution_count": 4,
      "outputs": []
    },
    {
      "cell_type": "code",
      "metadata": {
        "id": "mjAS8rxtieiW",
        "colab": {
          "base_uri": "https://localhost:8080/",
          "height": 142
        },
        "outputId": "4d832ecf-3c81-4193-f130-98eb79f877de"
      },
      "source": [
        "for word in words:\n",
        "  print(word + ' --------> ' +p_stemmer.stem(word))"
      ],
      "execution_count": null,
      "outputs": [
        {
          "output_type": "stream",
          "text": [
            "run ------  run\n",
            "runner ------  runner\n",
            "running ------  run\n",
            "ran ------  ran\n",
            "runs ------  run\n",
            "easily ------  easili\n",
            "fairly ------  fairli\n"
          ],
          "name": "stdout"
        }
      ]
    },
    {
      "cell_type": "code",
      "metadata": {
        "id": "t7nMUaiSi2AO",
        "colab": {
          "base_uri": "https://localhost:8080/"
        },
        "outputId": "87033863-558c-43de-bd83-4bcc8b8df43b"
      },
      "source": [
        "for word in words:\n",
        "  print(word + ' --------> ' +s_stemmer.stem(word))"
      ],
      "execution_count": 5,
      "outputs": [
        {
          "output_type": "stream",
          "name": "stdout",
          "text": [
            "run --------> run\n",
            "runner --------> runner\n",
            "running --------> run\n",
            "ran --------> ran\n",
            "runs --------> run\n",
            "easily --------> easili\n",
            "fairly --------> fair\n"
          ]
        }
      ]
    },
    {
      "cell_type": "markdown",
      "metadata": {
        "id": "qGBsewbcjKF3"
      },
      "source": [
        "# Lemmatization"
      ]
    },
    {
      "cell_type": "code",
      "metadata": {
        "id": "uHIVmMBSjNCo"
      },
      "source": [
        "import spacy\n",
        "nlp = spacy.load('en_core_web_sm')"
      ],
      "execution_count": 6,
      "outputs": []
    },
    {
      "cell_type": "code",
      "metadata": {
        "id": "rVdCgJRtjQoW"
      },
      "source": [
        "doc1 = nlp(\"The striped bats are hanging on their feet for best\")"
      ],
      "execution_count": 7,
      "outputs": []
    },
    {
      "cell_type": "code",
      "metadata": {
        "id": "6h7EcdHSjkMX",
        "colab": {
          "base_uri": "https://localhost:8080/"
        },
        "outputId": "77bed2d3-c998-4322-c54c-8e9c3f5cd9fb"
      },
      "source": [
        "for token in doc1:\n",
        "  print(token.text, '-------->', token.lemma_)"
      ],
      "execution_count": 8,
      "outputs": [
        {
          "output_type": "stream",
          "name": "stdout",
          "text": [
            "The --------> the\n",
            "striped --------> stripe\n",
            "bats --------> bat\n",
            "are --------> be\n",
            "hanging --------> hang\n",
            "on --------> on\n",
            "their --------> their\n",
            "feet --------> foot\n",
            "for --------> for\n",
            "best --------> good\n"
          ]
        }
      ]
    },
    {
      "cell_type": "code",
      "source": [
        "s1 = \"The striped bats are hanging on their feet for best\""
      ],
      "metadata": {
        "id": "xfH508d9NnnK"
      },
      "execution_count": 9,
      "outputs": []
    },
    {
      "cell_type": "code",
      "metadata": {
        "id": "1j5yTHz0kDIz",
        "colab": {
          "base_uri": "https://localhost:8080/"
        },
        "outputId": "5a8c5287-fe90-4cbf-d85f-dc9d2bdee8f6"
      },
      "source": [
        "for word in s1.split():\n",
        "  print(word + ' ------  ' +p_stemmer.stem(word))"
      ],
      "execution_count": 10,
      "outputs": [
        {
          "output_type": "stream",
          "name": "stdout",
          "text": [
            "The ------  the\n",
            "striped ------  stripe\n",
            "bats ------  bat\n",
            "are ------  are\n",
            "hanging ------  hang\n",
            "on ------  on\n",
            "their ------  their\n",
            "feet ------  feet\n",
            "for ------  for\n",
            "best ------  best\n"
          ]
        }
      ]
    }
  ]
}