{
  "cells": [
    {
      "attachments": {},
      "cell_type": "markdown",
      "metadata": {
        "id": "S-rFZE-rCzQC"
      },
      "source": [
        "# **Name Entity Recognition**\n",
        "It involves the identification of key information in the text and classification into a set of predefined categories. An entity is basically the thing that is consistently talked about or refer to in the text.\n",
        "\n",
        "##### **NER is the form of NLP**\n",
        "\n",
        "At its core, NLP is just a two-step process, below are the two steps that are involved:\n",
        "\n",
        "*   Detecting the entities from the text\n",
        "*   Classifying them into different categories\n",
        "\n",
        "Some of the categories that are the most important architecture in NER such that\n",
        "\n",
        "*   Person\n",
        "*   Organization\n",
        "*   Place/ location\n",
        "\n",
        "Other common tasks include classifying of the following:\n",
        "\n",
        "*   date/time\n",
        "*   expression\n",
        "*   Numeral measurement (money, percent, weight, etc)\n",
        "*   E-mail address\n"
      ]
    },
    {
      "cell_type": "code",
      "execution_count": 1,
      "metadata": {
        "id": "S60AdYCjCeBn"
      },
      "outputs": [],
      "source": [
        "import spacy\n",
        "nlp=spacy.load('en_core_web_sm')"
      ]
    },
    {
      "cell_type": "code",
      "execution_count": 2,
      "metadata": {
        "id": "PpU8zckmDxWo"
      },
      "outputs": [],
      "source": [
        "s1 = \"Apple is looking at buying U.K. startup for $1 billion\"\n",
        "s2 = \"San Francisco considers banning sidewalk delivery robots\"\n",
        "s3 = \"facebook is hiring a new vice president in U.S.\""
      ]
    },
    {
      "cell_type": "code",
      "execution_count": 3,
      "metadata": {
        "colab": {
          "base_uri": "https://localhost:8080/"
        },
        "id": "ULfbAZOsDydd",
        "outputId": "a546e007-a436-4756-fd7e-21472f2fcedf"
      },
      "outputs": [
        {
          "name": "stdout",
          "output_type": "stream",
          "text": [
            "Apple ORG Companies, agencies, institutions, etc.\n",
            "U.K. GPE Countries, cities, states\n",
            "$1 billion MONEY Monetary values, including unit\n"
          ]
        }
      ],
      "source": [
        "doc1 = nlp(s1)\n",
        "for ent in doc1.ents:\n",
        "  print(ent.text, ent.label_,str(spacy.explain(ent.label_)))"
      ]
    },
    {
      "cell_type": "code",
      "execution_count": 4,
      "metadata": {
        "colab": {
          "base_uri": "https://localhost:8080/"
        },
        "id": "uk0QxifBDzwh",
        "outputId": "6448a008-be1d-4d8f-cba3-c1feda8981d8"
      },
      "outputs": [
        {
          "name": "stdout",
          "output_type": "stream",
          "text": [
            "San Francisco GPE Countries, cities, states\n"
          ]
        }
      ],
      "source": [
        "doc2 = nlp(s2)\n",
        "for ent in doc2.ents:\n",
        "  print(ent.text, ent.label_,str(spacy.explain(ent.label_)))"
      ]
    },
    {
      "cell_type": "code",
      "execution_count": 5,
      "metadata": {
        "colab": {
          "base_uri": "https://localhost:8080/"
        },
        "id": "mquIUQSQD0zO",
        "outputId": "c76841eb-af9b-4aae-a342-4d50bb221f4b"
      },
      "outputs": [
        {
          "name": "stdout",
          "output_type": "stream",
          "text": [
            "U.S. GPE Countries, cities, states\n"
          ]
        }
      ],
      "source": [
        "doc3 = nlp(s3)\n",
        "for ent in doc3.ents:\n",
        "  print(ent.text, ent.label_,str(spacy.explain(ent.label_)))"
      ]
    },
    {
      "cell_type": "code",
      "execution_count": 6,
      "metadata": {
        "id": "OZn6YznKD16x"
      },
      "outputs": [],
      "source": [
        "ORG=doc3.vocab.strings['ORG']\n",
        "from spacy.tokens import Span\n",
        "new_ent=Span(doc3, 0,1,label=ORG)"
      ]
    },
    {
      "cell_type": "code",
      "execution_count": 7,
      "metadata": {
        "id": "oSuHfQPUD3A2"
      },
      "outputs": [],
      "source": [
        "doc3.ents=list(doc3.ents)+[new_ent]"
      ]
    },
    {
      "cell_type": "code",
      "execution_count": 8,
      "metadata": {
        "colab": {
          "base_uri": "https://localhost:8080/"
        },
        "id": "lAX03anRD3-p",
        "outputId": "60eedb7b-4551-4150-c346-be8bbc28876b"
      },
      "outputs": [
        {
          "data": {
            "text/plain": [
              "(facebook, U.S.)"
            ]
          },
          "execution_count": 8,
          "metadata": {},
          "output_type": "execute_result"
        }
      ],
      "source": [
        "doc3.ents"
      ]
    },
    {
      "cell_type": "code",
      "execution_count": 9,
      "metadata": {
        "colab": {
          "base_uri": "https://localhost:8080/"
        },
        "id": "hpmszu1mD48j",
        "outputId": "85952086-5927-45f8-a7b2-af94dbecf0c7"
      },
      "outputs": [
        {
          "name": "stdout",
          "output_type": "stream",
          "text": [
            "facebook ORG Companies, agencies, institutions, etc.\n",
            "U.S. GPE Countries, cities, states\n"
          ]
        }
      ],
      "source": [
        "for ent in doc3.ents:\n",
        "  print(ent.text, ent.label_,str(spacy.explain(ent.label_)))"
      ]
    },
    {
      "cell_type": "code",
      "execution_count": 10,
      "metadata": {
        "colab": {
          "base_uri": "https://localhost:8080/",
          "height": 52
        },
        "id": "yG1DVG1KD6a3",
        "outputId": "7c19b1b8-e879-48ad-a104-51868ae3ee9b"
      },
      "outputs": [
        {
          "data": {
            "text/html": [
              "<span class=\"tex2jax_ignore\"><div class=\"entities\" style=\"line-height: 2.5; direction: ltr\">\n",
              "<mark class=\"entity\" style=\"background: #7aecec; padding: 0.45em 0.6em; margin: 0 0.25em; line-height: 1; border-radius: 0.35em;\">\n",
              "    Apple\n",
              "    <span style=\"font-size: 0.8em; font-weight: bold; line-height: 1; border-radius: 0.35em; vertical-align: middle; margin-left: 0.5rem\">ORG</span>\n",
              "</mark>\n",
              " is looking at buying \n",
              "<mark class=\"entity\" style=\"background: #feca74; padding: 0.45em 0.6em; margin: 0 0.25em; line-height: 1; border-radius: 0.35em;\">\n",
              "    U.K.\n",
              "    <span style=\"font-size: 0.8em; font-weight: bold; line-height: 1; border-radius: 0.35em; vertical-align: middle; margin-left: 0.5rem\">GPE</span>\n",
              "</mark>\n",
              " startup for \n",
              "<mark class=\"entity\" style=\"background: #e4e7d2; padding: 0.45em 0.6em; margin: 0 0.25em; line-height: 1; border-radius: 0.35em;\">\n",
              "    $1 billion\n",
              "    <span style=\"font-size: 0.8em; font-weight: bold; line-height: 1; border-radius: 0.35em; vertical-align: middle; margin-left: 0.5rem\">MONEY</span>\n",
              "</mark>\n",
              "</div></span>"
            ],
            "text/plain": [
              "<IPython.core.display.HTML object>"
            ]
          },
          "metadata": {},
          "output_type": "display_data"
        }
      ],
      "source": [
        "from spacy import displacy\n",
        "displacy.render(docs=doc1,style='ent',jupyter=True)"
      ]
    },
    {
      "cell_type": "code",
      "execution_count": 11,
      "metadata": {
        "colab": {
          "base_uri": "https://localhost:8080/",
          "height": 52
        },
        "id": "MMPIgk1BD7cX",
        "outputId": "606ba7e0-f250-4b97-9502-c1c9ee4cf032"
      },
      "outputs": [
        {
          "data": {
            "text/html": [
              "<span class=\"tex2jax_ignore\"><div class=\"entities\" style=\"line-height: 2.5; direction: ltr\">\n",
              "<mark class=\"entity\" style=\"background: #7aecec; padding: 0.45em 0.6em; margin: 0 0.25em; line-height: 1; border-radius: 0.35em;\">\n",
              "    Apple\n",
              "    <span style=\"font-size: 0.8em; font-weight: bold; line-height: 1; border-radius: 0.35em; vertical-align: middle; margin-left: 0.5rem\">ORG</span>\n",
              "</mark>\n",
              " is looking at buying U.K. startup for $1 billion</div></span>"
            ],
            "text/plain": [
              "<IPython.core.display.HTML object>"
            ]
          },
          "metadata": {},
          "output_type": "display_data"
        }
      ],
      "source": [
        "from spacy import displacy\n",
        "displacy.render(docs=doc1,style='ent',options={'ents':{'ORG'}},jupyter=True)"
      ]
    }
  ],
  "metadata": {
    "colab": {
      "provenance": []
    },
    "kernelspec": {
      "display_name": "Python 3",
      "name": "python3"
    },
    "language_info": {
      "name": "python"
    }
  },
  "nbformat": 4,
  "nbformat_minor": 0
}
