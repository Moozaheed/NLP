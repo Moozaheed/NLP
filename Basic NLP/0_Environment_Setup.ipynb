{
  "cells": [
    {
      "attachments": {},
      "cell_type": "markdown",
      "metadata": {
        "id": "r4nbERvsPMTJ"
      },
      "source": [
        "# **NLP (Natural Language Processing)**\n",
        " NLP pipeline comprises a set of steps to read and understand human language.\n",
        "\n",
        "1.   Tokenization\n",
        "2.   Stemming & Lemmatization\n",
        "\n",
        "1.   Stop Words\n",
        "2.   Vocabulary and Matching\n",
        "\n",
        "1.   Parts of Speech Tagging\n",
        "2.   Named Entity Recognition\n",
        "\n",
        "1.   Sentence Segmentation\n",
        "\n",
        "**All import list are given below**"
      ]
    },
    {
      "cell_type": "code",
      "execution_count": 2,
      "metadata": {
        "id": "lV-w1mwmO1Nr"
      },
      "outputs": [],
      "source": [
        "import spacy\n",
        "import nltk\n",
        "import numpy as np\n",
        "import pandas as pd\n",
        "import matplotlib.pyplot as pit"
      ]
    }
  ],
  "metadata": {
    "colab": {
      "provenance": []
    },
    "kernelspec": {
      "display_name": "Python 3",
      "name": "python3"
    },
    "language_info": {
      "codemirror_mode": {
        "name": "ipython",
        "version": 3
      },
      "file_extension": ".py",
      "mimetype": "text/x-python",
      "name": "python",
      "nbconvert_exporter": "python",
      "pygments_lexer": "ipython3",
      "version": "3.10.11"
    }
  },
  "nbformat": 4,
  "nbformat_minor": 0
}
