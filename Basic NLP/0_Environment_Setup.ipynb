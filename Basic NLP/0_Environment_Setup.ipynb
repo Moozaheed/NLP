{
  "nbformat": 4,
  "nbformat_minor": 0,
  "metadata": {
    "colab": {
      "provenance": []
    },
    "kernelspec": {
      "name": "python3",
      "display_name": "Python 3"
    },
    "language_info": {
      "name": "python"
    }
  },
  "cells": [
    {
      "cell_type": "markdown",
      "source": [
        "# **NLP (Natural Language Processing)**\n",
        " NLP pipeline comprises a set of steps to read and understand human language.\n",
        "\n",
        "1.   Tokenization\n",
        "2.   Stemming & Lemmatization\n",
        "\n",
        "1.   Stop Words\n",
        "2.   Vocabulary and Matching\n",
        "\n",
        "1.   Parts of Speech Tagging\n",
        "2.   Named Entity Recognition\n",
        "\n",
        "1.   Sentence Segmentation\n",
        "\n",
        "**All import list are given below**"
      ],
      "metadata": {
        "id": "r4nbERvsPMTJ"
      }
    },
    {
      "cell_type": "code",
      "execution_count": null,
      "metadata": {
        "id": "lV-w1mwmO1Nr"
      },
      "outputs": [],
      "source": [
        "import spacy\n",
        "import nltk\n",
        "import numpy as np\n",
        "import pandas as pd\n",
        "import matplotlib.pyplot as pit"
      ]
    }
  ]
}