{
  "nbformat": 4,
  "nbformat_minor": 0,
  "metadata": {
    "colab": {
      "provenance": []
    },
    "kernelspec": {
      "name": "python3",
      "display_name": "Python 3"
    },
    "language_info": {
      "name": "python"
    }
  },
  "cells": [
    {
      "cell_type": "markdown",
      "source": [
        "#**Parts of Speech Tagging**\n",
        " It is a process of converting a sentence to forms – list of words, list of tuples (where each tuple is having a form (word, tag)). The tag in case of is a part-of-speech tag, and signifies whether the word is a noun, adjective, verb, and so on. Examples are given below,\n",
        "\n",
        " ![image.png](data:image/png;base64,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)"
      ],
      "metadata": {
        "id": "gBpiyCJ0_DBt"
      }
    },
    {
      "cell_type": "code",
      "source": [
        "import spacy\n",
        "nlp=spacy.load('en_core_web_sm')"
      ],
      "metadata": {
        "id": "dYmFLdMIAmeC"
      },
      "execution_count": null,
      "outputs": []
    },
    {
      "cell_type": "code",
      "execution_count": null,
      "metadata": {
        "id": "i02IXrsA_CSk"
      },
      "outputs": [],
      "source": [
        "s1 = \"Apple is looking at buying U. K. startup for $1 billion\""
      ]
    },
    {
      "cell_type": "code",
      "source": [
        "doc=nlp(s1)"
      ],
      "metadata": {
        "id": "ltdhAjcCAodi"
      },
      "execution_count": null,
      "outputs": []
    },
    {
      "cell_type": "code",
      "source": [
        "for token in doc:\n",
        "  print(token.text,token.pos_,token.tag_,spacy.explain(token.tag_))"
      ],
      "metadata": {
        "colab": {
          "base_uri": "https://localhost:8080/"
        },
        "id": "PQPoMjvEAp47",
        "outputId": "53271fbc-d8c1-4dbf-cfb3-838b5187d2c2"
      },
      "execution_count": null,
      "outputs": [
        {
          "output_type": "stream",
          "name": "stdout",
          "text": [
            "Apple PROPN NNP noun, proper singular\n",
            "is AUX VBZ verb, 3rd person singular present\n",
            "looking VERB VBG verb, gerund or present participle\n",
            "at ADP IN conjunction, subordinating or preposition\n",
            "buying VERB VBG verb, gerund or present participle\n",
            "U. PROPN NNP noun, proper singular\n",
            "K. PROPN NNP noun, proper singular\n",
            "startup NOUN NN noun, singular or mass\n",
            "for ADP IN conjunction, subordinating or preposition\n",
            "$ SYM $ symbol, currency\n",
            "1 NUM CD cardinal number\n",
            "billion NUM CD cardinal number\n"
          ]
        }
      ]
    },
    {
      "cell_type": "code",
      "source": [
        "for key,val in doc.count_by(spacy.attrs.POS).items():\n",
        "  print(key,doc.vocab[key].text,val)"
      ],
      "metadata": {
        "colab": {
          "base_uri": "https://localhost:8080/"
        },
        "id": "EGYkiO3HArYs",
        "outputId": "ba9d2829-c3f8-407f-cb5a-e59a3236b5aa"
      },
      "execution_count": null,
      "outputs": [
        {
          "output_type": "stream",
          "name": "stdout",
          "text": [
            "96 PROPN 3\n",
            "87 AUX 1\n",
            "100 VERB 2\n",
            "85 ADP 2\n",
            "92 NOUN 1\n",
            "99 SYM 1\n",
            "93 NUM 2\n"
          ]
        }
      ]
    },
    {
      "cell_type": "code",
      "source": [
        "from spacy import displacy"
      ],
      "metadata": {
        "id": "y9jQok9bAsuM"
      },
      "execution_count": null,
      "outputs": []
    },
    {
      "cell_type": "code",
      "source": [
        "displacy.render(docs=doc,style='dep', options={'distance':150},jupyter=True)"
      ],
      "metadata": {
        "colab": {
          "base_uri": "https://localhost:8080/"
        },
        "id": "0I-hEbV5At8q",
        "outputId": "52be1c1e-d37e-4605-a636-35b321366e48"
      },
      "execution_count": null,
      "outputs": [
        {
          "output_type": "display_data",
          "data": {
            "text/plain": [
              "<IPython.core.display.HTML object>"
            ],
            "text/html": [
              "<span class=\"tex2jax_ignore\"><svg xmlns=\"http://www.w3.org/2000/svg\" xmlns:xlink=\"http://www.w3.org/1999/xlink\" xml:lang=\"en\" id=\"92dd2d8b01794885b15fabad34de4ea4-0\" class=\"displacy\" width=\"1850\" height=\"362.0\" direction=\"ltr\" style=\"max-width: none; height: 362.0px; color: #000000; background: #ffffff; font-family: Arial; direction: ltr\">\n",
              "<text class=\"displacy-token\" fill=\"currentColor\" text-anchor=\"middle\" y=\"272.0\">\n",
              "    <tspan class=\"displacy-word\" fill=\"currentColor\" x=\"50\">Apple</tspan>\n",
              "    <tspan class=\"displacy-tag\" dy=\"2em\" fill=\"currentColor\" x=\"50\">PROPN</tspan>\n",
              "</text>\n",
              "\n",
              "<text class=\"displacy-token\" fill=\"currentColor\" text-anchor=\"middle\" y=\"272.0\">\n",
              "    <tspan class=\"displacy-word\" fill=\"currentColor\" x=\"200\">is</tspan>\n",
              "    <tspan class=\"displacy-tag\" dy=\"2em\" fill=\"currentColor\" x=\"200\">AUX</tspan>\n",
              "</text>\n",
              "\n",
              "<text class=\"displacy-token\" fill=\"currentColor\" text-anchor=\"middle\" y=\"272.0\">\n",
              "    <tspan class=\"displacy-word\" fill=\"currentColor\" x=\"350\">looking</tspan>\n",
              "    <tspan class=\"displacy-tag\" dy=\"2em\" fill=\"currentColor\" x=\"350\">VERB</tspan>\n",
              "</text>\n",
              "\n",
              "<text class=\"displacy-token\" fill=\"currentColor\" text-anchor=\"middle\" y=\"272.0\">\n",
              "    <tspan class=\"displacy-word\" fill=\"currentColor\" x=\"500\">at</tspan>\n",
              "    <tspan class=\"displacy-tag\" dy=\"2em\" fill=\"currentColor\" x=\"500\">ADP</tspan>\n",
              "</text>\n",
              "\n",
              "<text class=\"displacy-token\" fill=\"currentColor\" text-anchor=\"middle\" y=\"272.0\">\n",
              "    <tspan class=\"displacy-word\" fill=\"currentColor\" x=\"650\">buying</tspan>\n",
              "    <tspan class=\"displacy-tag\" dy=\"2em\" fill=\"currentColor\" x=\"650\">VERB</tspan>\n",
              "</text>\n",
              "\n",
              "<text class=\"displacy-token\" fill=\"currentColor\" text-anchor=\"middle\" y=\"272.0\">\n",
              "    <tspan class=\"displacy-word\" fill=\"currentColor\" x=\"800\">U.</tspan>\n",
              "    <tspan class=\"displacy-tag\" dy=\"2em\" fill=\"currentColor\" x=\"800\">PROPN</tspan>\n",
              "</text>\n",
              "\n",
              "<text class=\"displacy-token\" fill=\"currentColor\" text-anchor=\"middle\" y=\"272.0\">\n",
              "    <tspan class=\"displacy-word\" fill=\"currentColor\" x=\"950\">K.</tspan>\n",
              "    <tspan class=\"displacy-tag\" dy=\"2em\" fill=\"currentColor\" x=\"950\">PROPN</tspan>\n",
              "</text>\n",
              "\n",
              "<text class=\"displacy-token\" fill=\"currentColor\" text-anchor=\"middle\" y=\"272.0\">\n",
              "    <tspan class=\"displacy-word\" fill=\"currentColor\" x=\"1100\">startup</tspan>\n",
              "    <tspan class=\"displacy-tag\" dy=\"2em\" fill=\"currentColor\" x=\"1100\">NOUN</tspan>\n",
              "</text>\n",
              "\n",
              "<text class=\"displacy-token\" fill=\"currentColor\" text-anchor=\"middle\" y=\"272.0\">\n",
              "    <tspan class=\"displacy-word\" fill=\"currentColor\" x=\"1250\">for</tspan>\n",
              "    <tspan class=\"displacy-tag\" dy=\"2em\" fill=\"currentColor\" x=\"1250\">ADP</tspan>\n",
              "</text>\n",
              "\n",
              "<text class=\"displacy-token\" fill=\"currentColor\" text-anchor=\"middle\" y=\"272.0\">\n",
              "    <tspan class=\"displacy-word\" fill=\"currentColor\" x=\"1400\">$</tspan>\n",
              "    <tspan class=\"displacy-tag\" dy=\"2em\" fill=\"currentColor\" x=\"1400\">SYM</tspan>\n",
              "</text>\n",
              "\n",
              "<text class=\"displacy-token\" fill=\"currentColor\" text-anchor=\"middle\" y=\"272.0\">\n",
              "    <tspan class=\"displacy-word\" fill=\"currentColor\" x=\"1550\">1</tspan>\n",
              "    <tspan class=\"displacy-tag\" dy=\"2em\" fill=\"currentColor\" x=\"1550\">NUM</tspan>\n",
              "</text>\n",
              "\n",
              "<text class=\"displacy-token\" fill=\"currentColor\" text-anchor=\"middle\" y=\"272.0\">\n",
              "    <tspan class=\"displacy-word\" fill=\"currentColor\" x=\"1700\">billion</tspan>\n",
              "    <tspan class=\"displacy-tag\" dy=\"2em\" fill=\"currentColor\" x=\"1700\">NUM</tspan>\n",
              "</text>\n",
              "\n",
              "<g class=\"displacy-arrow\">\n",
              "    <path class=\"displacy-arc\" id=\"arrow-92dd2d8b01794885b15fabad34de4ea4-0-0\" stroke-width=\"2px\" d=\"M70,227.0 C70,77.0 345.0,77.0 345.0,227.0\" fill=\"none\" stroke=\"currentColor\"/>\n",
              "    <text dy=\"1.25em\" style=\"font-size: 0.8em; letter-spacing: 1px\">\n",
              "        <textPath xlink:href=\"#arrow-92dd2d8b01794885b15fabad34de4ea4-0-0\" class=\"displacy-label\" startOffset=\"50%\" side=\"left\" fill=\"currentColor\" text-anchor=\"middle\">nsubj</textPath>\n",
              "    </text>\n",
              "    <path class=\"displacy-arrowhead\" d=\"M70,229.0 L62,217.0 78,217.0\" fill=\"currentColor\"/>\n",
              "</g>\n",
              "\n",
              "<g class=\"displacy-arrow\">\n",
              "    <path class=\"displacy-arc\" id=\"arrow-92dd2d8b01794885b15fabad34de4ea4-0-1\" stroke-width=\"2px\" d=\"M220,227.0 C220,152.0 340.0,152.0 340.0,227.0\" fill=\"none\" stroke=\"currentColor\"/>\n",
              "    <text dy=\"1.25em\" style=\"font-size: 0.8em; letter-spacing: 1px\">\n",
              "        <textPath xlink:href=\"#arrow-92dd2d8b01794885b15fabad34de4ea4-0-1\" class=\"displacy-label\" startOffset=\"50%\" side=\"left\" fill=\"currentColor\" text-anchor=\"middle\">aux</textPath>\n",
              "    </text>\n",
              "    <path class=\"displacy-arrowhead\" d=\"M220,229.0 L212,217.0 228,217.0\" fill=\"currentColor\"/>\n",
              "</g>\n",
              "\n",
              "<g class=\"displacy-arrow\">\n",
              "    <path class=\"displacy-arc\" id=\"arrow-92dd2d8b01794885b15fabad34de4ea4-0-2\" stroke-width=\"2px\" d=\"M370,227.0 C370,152.0 490.0,152.0 490.0,227.0\" fill=\"none\" stroke=\"currentColor\"/>\n",
              "    <text dy=\"1.25em\" style=\"font-size: 0.8em; letter-spacing: 1px\">\n",
              "        <textPath xlink:href=\"#arrow-92dd2d8b01794885b15fabad34de4ea4-0-2\" class=\"displacy-label\" startOffset=\"50%\" side=\"left\" fill=\"currentColor\" text-anchor=\"middle\">prep</textPath>\n",
              "    </text>\n",
              "    <path class=\"displacy-arrowhead\" d=\"M490.0,229.0 L498.0,217.0 482.0,217.0\" fill=\"currentColor\"/>\n",
              "</g>\n",
              "\n",
              "<g class=\"displacy-arrow\">\n",
              "    <path class=\"displacy-arc\" id=\"arrow-92dd2d8b01794885b15fabad34de4ea4-0-3\" stroke-width=\"2px\" d=\"M520,227.0 C520,152.0 640.0,152.0 640.0,227.0\" fill=\"none\" stroke=\"currentColor\"/>\n",
              "    <text dy=\"1.25em\" style=\"font-size: 0.8em; letter-spacing: 1px\">\n",
              "        <textPath xlink:href=\"#arrow-92dd2d8b01794885b15fabad34de4ea4-0-3\" class=\"displacy-label\" startOffset=\"50%\" side=\"left\" fill=\"currentColor\" text-anchor=\"middle\">pcomp</textPath>\n",
              "    </text>\n",
              "    <path class=\"displacy-arrowhead\" d=\"M640.0,229.0 L648.0,217.0 632.0,217.0\" fill=\"currentColor\"/>\n",
              "</g>\n",
              "\n",
              "<g class=\"displacy-arrow\">\n",
              "    <path class=\"displacy-arc\" id=\"arrow-92dd2d8b01794885b15fabad34de4ea4-0-4\" stroke-width=\"2px\" d=\"M820,227.0 C820,152.0 940.0,152.0 940.0,227.0\" fill=\"none\" stroke=\"currentColor\"/>\n",
              "    <text dy=\"1.25em\" style=\"font-size: 0.8em; letter-spacing: 1px\">\n",
              "        <textPath xlink:href=\"#arrow-92dd2d8b01794885b15fabad34de4ea4-0-4\" class=\"displacy-label\" startOffset=\"50%\" side=\"left\" fill=\"currentColor\" text-anchor=\"middle\">compound</textPath>\n",
              "    </text>\n",
              "    <path class=\"displacy-arrowhead\" d=\"M820,229.0 L812,217.0 828,217.0\" fill=\"currentColor\"/>\n",
              "</g>\n",
              "\n",
              "<g class=\"displacy-arrow\">\n",
              "    <path class=\"displacy-arc\" id=\"arrow-92dd2d8b01794885b15fabad34de4ea4-0-5\" stroke-width=\"2px\" d=\"M970,227.0 C970,152.0 1090.0,152.0 1090.0,227.0\" fill=\"none\" stroke=\"currentColor\"/>\n",
              "    <text dy=\"1.25em\" style=\"font-size: 0.8em; letter-spacing: 1px\">\n",
              "        <textPath xlink:href=\"#arrow-92dd2d8b01794885b15fabad34de4ea4-0-5\" class=\"displacy-label\" startOffset=\"50%\" side=\"left\" fill=\"currentColor\" text-anchor=\"middle\">compound</textPath>\n",
              "    </text>\n",
              "    <path class=\"displacy-arrowhead\" d=\"M970,229.0 L962,217.0 978,217.0\" fill=\"currentColor\"/>\n",
              "</g>\n",
              "\n",
              "<g class=\"displacy-arrow\">\n",
              "    <path class=\"displacy-arc\" id=\"arrow-92dd2d8b01794885b15fabad34de4ea4-0-6\" stroke-width=\"2px\" d=\"M670,227.0 C670,77.0 1095.0,77.0 1095.0,227.0\" fill=\"none\" stroke=\"currentColor\"/>\n",
              "    <text dy=\"1.25em\" style=\"font-size: 0.8em; letter-spacing: 1px\">\n",
              "        <textPath xlink:href=\"#arrow-92dd2d8b01794885b15fabad34de4ea4-0-6\" class=\"displacy-label\" startOffset=\"50%\" side=\"left\" fill=\"currentColor\" text-anchor=\"middle\">dobj</textPath>\n",
              "    </text>\n",
              "    <path class=\"displacy-arrowhead\" d=\"M1095.0,229.0 L1103.0,217.0 1087.0,217.0\" fill=\"currentColor\"/>\n",
              "</g>\n",
              "\n",
              "<g class=\"displacy-arrow\">\n",
              "    <path class=\"displacy-arc\" id=\"arrow-92dd2d8b01794885b15fabad34de4ea4-0-7\" stroke-width=\"2px\" d=\"M1120,227.0 C1120,152.0 1240.0,152.0 1240.0,227.0\" fill=\"none\" stroke=\"currentColor\"/>\n",
              "    <text dy=\"1.25em\" style=\"font-size: 0.8em; letter-spacing: 1px\">\n",
              "        <textPath xlink:href=\"#arrow-92dd2d8b01794885b15fabad34de4ea4-0-7\" class=\"displacy-label\" startOffset=\"50%\" side=\"left\" fill=\"currentColor\" text-anchor=\"middle\">prep</textPath>\n",
              "    </text>\n",
              "    <path class=\"displacy-arrowhead\" d=\"M1240.0,229.0 L1248.0,217.0 1232.0,217.0\" fill=\"currentColor\"/>\n",
              "</g>\n",
              "\n",
              "<g class=\"displacy-arrow\">\n",
              "    <path class=\"displacy-arc\" id=\"arrow-92dd2d8b01794885b15fabad34de4ea4-0-8\" stroke-width=\"2px\" d=\"M1420,227.0 C1420,77.0 1695.0,77.0 1695.0,227.0\" fill=\"none\" stroke=\"currentColor\"/>\n",
              "    <text dy=\"1.25em\" style=\"font-size: 0.8em; letter-spacing: 1px\">\n",
              "        <textPath xlink:href=\"#arrow-92dd2d8b01794885b15fabad34de4ea4-0-8\" class=\"displacy-label\" startOffset=\"50%\" side=\"left\" fill=\"currentColor\" text-anchor=\"middle\">quantmod</textPath>\n",
              "    </text>\n",
              "    <path class=\"displacy-arrowhead\" d=\"M1420,229.0 L1412,217.0 1428,217.0\" fill=\"currentColor\"/>\n",
              "</g>\n",
              "\n",
              "<g class=\"displacy-arrow\">\n",
              "    <path class=\"displacy-arc\" id=\"arrow-92dd2d8b01794885b15fabad34de4ea4-0-9\" stroke-width=\"2px\" d=\"M1570,227.0 C1570,152.0 1690.0,152.0 1690.0,227.0\" fill=\"none\" stroke=\"currentColor\"/>\n",
              "    <text dy=\"1.25em\" style=\"font-size: 0.8em; letter-spacing: 1px\">\n",
              "        <textPath xlink:href=\"#arrow-92dd2d8b01794885b15fabad34de4ea4-0-9\" class=\"displacy-label\" startOffset=\"50%\" side=\"left\" fill=\"currentColor\" text-anchor=\"middle\">compound</textPath>\n",
              "    </text>\n",
              "    <path class=\"displacy-arrowhead\" d=\"M1570,229.0 L1562,217.0 1578,217.0\" fill=\"currentColor\"/>\n",
              "</g>\n",
              "\n",
              "<g class=\"displacy-arrow\">\n",
              "    <path class=\"displacy-arc\" id=\"arrow-92dd2d8b01794885b15fabad34de4ea4-0-10\" stroke-width=\"2px\" d=\"M1270,227.0 C1270,2.0 1700.0,2.0 1700.0,227.0\" fill=\"none\" stroke=\"currentColor\"/>\n",
              "    <text dy=\"1.25em\" style=\"font-size: 0.8em; letter-spacing: 1px\">\n",
              "        <textPath xlink:href=\"#arrow-92dd2d8b01794885b15fabad34de4ea4-0-10\" class=\"displacy-label\" startOffset=\"50%\" side=\"left\" fill=\"currentColor\" text-anchor=\"middle\">pobj</textPath>\n",
              "    </text>\n",
              "    <path class=\"displacy-arrowhead\" d=\"M1700.0,229.0 L1708.0,217.0 1692.0,217.0\" fill=\"currentColor\"/>\n",
              "</g>\n",
              "</svg></span>"
            ]
          },
          "metadata": {}
        }
      ]
    }
  ]
}