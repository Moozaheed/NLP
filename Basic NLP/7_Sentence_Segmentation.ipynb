{
  "cells": [
    {
      "cell_type": "markdown",
      "metadata": {
        "id": "X6qSxwMu4XCU"
      },
      "source": [
        "# **Sentence Segmentation**\n",
        "The process of deciding from where the sentences actually start or end in NLP or we can simply say that here we are dividing a paragraph based on sentences. This process is known as Sentence Segmentation. The idea here looks very simple. In English and some other languages, we can split apart the sentences whenever we see a punctuation mark."
      ]
    },
    {
      "cell_type": "code",
      "execution_count": 1,
      "metadata": {
        "id": "n40Pn_z13_s4"
      },
      "outputs": [],
      "source": [
        "import spacy\n",
        "nlp=spacy.load('en_core_web_sm')"
      ]
    },
    {
      "cell_type": "code",
      "execution_count": 2,
      "metadata": {
        "id": "r0-EbRSd4oLk"
      },
      "outputs": [],
      "source": [
        "s1 = \"This is a sentence. This is second sentence. Thig is last sentence.\"\n",
        "doc1 = nlp(s1)"
      ]
    },
    {
      "cell_type": "code",
      "execution_count": 3,
      "metadata": {
        "colab": {
          "base_uri": "https://localhost:8080/"
        },
        "id": "4qtQLSte4qem",
        "outputId": "1c7cc1d1-907a-4313-be61-da7ccfef7046"
      },
      "outputs": [
        {
          "data": {
            "text/plain": [
              "<generator at 0x2171f721580>"
            ]
          },
          "execution_count": 3,
          "metadata": {},
          "output_type": "execute_result"
        }
      ],
      "source": [
        "doc1.sents"
      ]
    },
    {
      "cell_type": "code",
      "execution_count": 4,
      "metadata": {
        "colab": {
          "base_uri": "https://localhost:8080/"
        },
        "id": "DlX1MVA44sfv",
        "outputId": "20ced3c8-587c-4af0-c5fc-8d6fafe38466"
      },
      "outputs": [
        {
          "name": "stdout",
          "output_type": "stream",
          "text": [
            "This is a sentence.\n",
            "This is second sentence.\n",
            "Thig is last sentence.\n"
          ]
        }
      ],
      "source": [
        "for sent in doc1.sents:\n",
        "  print(sent.text)"
      ]
    },
    {
      "cell_type": "code",
      "execution_count": 5,
      "metadata": {
        "id": "z9IBq-zS4tun"
      },
      "outputs": [],
      "source": [
        "s3 = \"This is a sentence. This is second U.K. sentence. This is last sentence.\"\n",
        "doc3=nlp(s3)"
      ]
    },
    {
      "cell_type": "code",
      "execution_count": 6,
      "metadata": {
        "colab": {
          "base_uri": "https://localhost:8080/"
        },
        "id": "rraFZU0i4ua_",
        "outputId": "d856ed3d-f901-45ba-c328-3c33b12041b9"
      },
      "outputs": [
        {
          "name": "stdout",
          "output_type": "stream",
          "text": [
            "This is a sentence.\n",
            "This is second U.K. sentence.\n",
            "This is last sentence.\n"
          ]
        }
      ],
      "source": [
        "for sent in doc3.sents:\n",
        "  print(sent.text)"
      ]
    },
    {
      "cell_type": "markdown",
      "metadata": {
        "id": "YRvs44ce41mQ"
      },
      "source": [
        "### **Custom Pipeline**"
      ]
    },
    {
      "cell_type": "code",
      "execution_count": 7,
      "metadata": {
        "id": "b0M3UCnT42wd"
      },
      "outputs": [],
      "source": [
        "s2=\"This is. A sentence. | This is. Another sentence.\"\n",
        "doc2=nlp(s2)"
      ]
    },
    {
      "cell_type": "code",
      "execution_count": 8,
      "metadata": {
        "colab": {
          "base_uri": "https://localhost:8080/"
        },
        "id": "Z-Py79rr44lv",
        "outputId": "1a9e3431-ef58-4855-85b7-584439bbee81"
      },
      "outputs": [
        {
          "name": "stdout",
          "output_type": "stream",
          "text": [
            "This is.\n",
            "A sentence.\n",
            "| This is.\n",
            "Another sentence.\n"
          ]
        }
      ],
      "source": [
        "for sent in doc2.sents:\n",
        "  print(sent.text)"
      ]
    },
    {
      "cell_type": "code",
      "execution_count": 9,
      "metadata": {
        "colab": {
          "base_uri": "https://localhost:8080/"
        },
        "id": "aDfvwo7v46SW",
        "outputId": "b7207adb-285e-4c22-ede4-af54277a9866"
      },
      "outputs": [
        {
          "data": {
            "text/plain": [
              "['tok2vec', 'tagger', 'parser', 'attribute_ruler', 'lemmatizer', 'ner']"
            ]
          },
          "execution_count": 9,
          "metadata": {},
          "output_type": "execute_result"
        }
      ],
      "source": [
        "nlp.pipe_names"
      ]
    },
    {
      "cell_type": "code",
      "execution_count": 10,
      "metadata": {
        "id": "QTUBBNx549oq"
      },
      "outputs": [],
      "source": [
        "import spacy\n",
        "from spacy.language import Language\n",
        "\n",
        "@Language.component(\"custom_sentencizer\")\n",
        "def custom_sentencizer(doc):\n",
        "    for i, token in enumerate(doc[:-2]):\n",
        "        # Define sentence start if pipe + titlecase token\n",
        "        if token.text == \"|\" and doc[i + 1].is_title:\n",
        "            doc[i + 1].is_sent_start = True\n",
        "        else:\n",
        "            # Explicitly set sentence start to False otherwise, to tell\n",
        "            # the parser to leave those tokens alone\n",
        "            doc[i + 1].is_sent_start = False\n",
        "    return doc"
      ]
    },
    {
      "cell_type": "code",
      "execution_count": 11,
      "metadata": {
        "colab": {
          "base_uri": "https://localhost:8080/"
        },
        "id": "cfhPd3NA6Ne8",
        "outputId": "2b397c78-d86c-411e-a55c-7b6eb397c663"
      },
      "outputs": [
        {
          "data": {
            "text/plain": [
              "<function __main__.custom_sentencizer(doc)>"
            ]
          },
          "execution_count": 11,
          "metadata": {},
          "output_type": "execute_result"
        }
      ],
      "source": [
        "nlp = spacy.load(\"en_core_web_sm\")\n",
        "nlp.add_pipe(\"custom_sentencizer\", before=\"parser\") "
      ]
    },
    {
      "cell_type": "code",
      "execution_count": 12,
      "metadata": {
        "colab": {
          "base_uri": "https://localhost:8080/"
        },
        "id": "zkAJw0kl5EbT",
        "outputId": "62457acf-3e73-40b3-9ed4-4bf82bc27d59"
      },
      "outputs": [
        {
          "data": {
            "text/plain": [
              "['tok2vec',\n",
              " 'tagger',\n",
              " 'custom_sentencizer',\n",
              " 'parser',\n",
              " 'attribute_ruler',\n",
              " 'lemmatizer',\n",
              " 'ner']"
            ]
          },
          "execution_count": 12,
          "metadata": {},
          "output_type": "execute_result"
        }
      ],
      "source": [
        "nlp.pipe_names"
      ]
    },
    {
      "cell_type": "code",
      "execution_count": 13,
      "metadata": {
        "colab": {
          "base_uri": "https://localhost:8080/"
        },
        "id": "URRN4Ndv5FVq",
        "outputId": "615268b0-d971-410a-bd8f-b073fb13cf47"
      },
      "outputs": [
        {
          "name": "stdout",
          "output_type": "stream",
          "text": [
            "This is. A sentence. |\n",
            "This is. Another sentence.\n"
          ]
        }
      ],
      "source": [
        "doc2=nlp(s2)\n",
        "for sent in doc2.sents:\n",
        "  print(sent.text)"
      ]
    },
    {
      "cell_type": "markdown",
      "metadata": {
        "id": "BDAmcCOv6mde"
      },
      "source": [
        "### **Another Example of Custom Pipeline**"
      ]
    },
    {
      "cell_type": "code",
      "execution_count": 14,
      "metadata": {
        "id": "i2y1HXkZ6iXd"
      },
      "outputs": [],
      "source": [
        "s2 = \"This is a sentence; This is second sentence; This is last sentence.\"\n",
        "doc2 = nlp(s2)"
      ]
    },
    {
      "cell_type": "code",
      "execution_count": 15,
      "metadata": {
        "colab": {
          "base_uri": "https://localhost:8080/"
        },
        "id": "glmusGP-6y7J",
        "outputId": "bda9621c-7d20-45f7-a2d7-1a47125d804d"
      },
      "outputs": [
        {
          "name": "stdout",
          "output_type": "stream",
          "text": [
            "This is a sentence; This is second sentence; This is last sentence.\n"
          ]
        }
      ],
      "source": [
        "for sent in doc2.sents:\n",
        "  print(sent.text)"
      ]
    },
    {
      "cell_type": "code",
      "execution_count": 16,
      "metadata": {
        "colab": {
          "base_uri": "https://localhost:8080/"
        },
        "id": "xnnCzH_V65J0",
        "outputId": "c2953dde-0b34-4eea-8721-a2fae6039ca5"
      },
      "outputs": [
        {
          "data": {
            "text/plain": [
              "['tok2vec',\n",
              " 'tagger',\n",
              " 'custom_sentencizer',\n",
              " 'parser',\n",
              " 'attribute_ruler',\n",
              " 'lemmatizer',\n",
              " 'ner']"
            ]
          },
          "execution_count": 16,
          "metadata": {},
          "output_type": "execute_result"
        }
      ],
      "source": [
        "nlp.pipe_names"
      ]
    },
    {
      "cell_type": "code",
      "execution_count": null,
      "metadata": {
        "id": "z9GcC9wO61TA"
      },
      "outputs": [],
      "source": []
    },
    {
      "cell_type": "code",
      "execution_count": 17,
      "metadata": {
        "colab": {
          "base_uri": "https://localhost:8080/"
        },
        "id": "XNXt4-g367Hb",
        "outputId": "d7c80520-2fa6-427b-de8b-d8dd98ddb91a"
      },
      "outputs": [
        {
          "data": {
            "text/plain": [
              "<function __main__.set_custom_boundaries(doc)>"
            ]
          },
          "execution_count": 17,
          "metadata": {},
          "output_type": "execute_result"
        }
      ],
      "source": [
        "import spacy\n",
        "from spacy.language import Language\n",
        "\n",
        "@Language.component(\"set_custom_boundaries\")\n",
        "def set_custom_boundaries(doc):\n",
        "  for token in doc[:-1]:\n",
        "    if token.text==';':\n",
        "      print(token.i)\n",
        "      doc[token.i+1].is_sent_start=True\n",
        "  return doc;\n",
        "\n",
        "nlp = spacy.load(\"en_core_web_sm\")\n",
        "nlp.add_pipe(\"set_custom_boundaries\", before=\"parser\") "
      ]
    },
    {
      "cell_type": "code",
      "execution_count": 18,
      "metadata": {
        "colab": {
          "base_uri": "https://localhost:8080/"
        },
        "id": "iBds2-QK7A7m",
        "outputId": "23cfd115-1ac5-489b-cd9e-5a53b0b28299"
      },
      "outputs": [
        {
          "data": {
            "text/plain": [
              "['tok2vec',\n",
              " 'tagger',\n",
              " 'set_custom_boundaries',\n",
              " 'parser',\n",
              " 'attribute_ruler',\n",
              " 'lemmatizer',\n",
              " 'ner']"
            ]
          },
          "execution_count": 18,
          "metadata": {},
          "output_type": "execute_result"
        }
      ],
      "source": [
        "nlp.pipe_names"
      ]
    },
    {
      "cell_type": "code",
      "execution_count": 19,
      "metadata": {
        "colab": {
          "base_uri": "https://localhost:8080/"
        },
        "id": "m2UX3Hkz7DO8",
        "outputId": "c23b46f0-16fe-40a3-c480-a5f78909c4a0"
      },
      "outputs": [
        {
          "name": "stdout",
          "output_type": "stream",
          "text": [
            "4\n",
            "9\n",
            "This is a sentence;\n",
            "This is second sentence;\n",
            "This is last sentence.\n"
          ]
        }
      ],
      "source": [
        "doc2=nlp(s2)\n",
        "for sent in doc2.sents:\n",
        "  print(sent.text)"
      ]
    }
  ],
  "metadata": {
    "colab": {
      "provenance": []
    },
    "kernelspec": {
      "display_name": "Python 3",
      "name": "python3"
    },
    "language_info": {
      "codemirror_mode": {
        "name": "ipython",
        "version": 3
      },
      "file_extension": ".py",
      "mimetype": "text/x-python",
      "name": "python",
      "nbconvert_exporter": "python",
      "pygments_lexer": "ipython3",
      "version": "3.10.11"
    }
  },
  "nbformat": 4,
  "nbformat_minor": 0
}
