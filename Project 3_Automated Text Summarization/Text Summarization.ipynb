{
 "cells": [
  {
   "cell_type": "code",
   "execution_count": 31,
   "metadata": {},
   "outputs": [],
   "source": [
    "text=\"Once upon a time, in a quaint village nestled between rolling hills and lush forests, there lived a young girl named Lily. She was known for her bright eyes, kind heart, and a keen sense of adventure. Lily's parents owned a small bakery that was famous for its delicious pastries, and she loved spending time there, helping out whenever she could.One sunny morning, as Lily was walking through the village square, she noticed a peculiar poster pinned to a bulletin board. It was an announcement about a legendary treasure hidden deep within the Enchanted Forest, a mysterious place that bordered their village. The poster depicted a glimmering jewel said to grant the possessor any wish their heart desired. The reward was enticing, but the journey through the Enchanted Forest was known to be treacherous, and many who had ventured in never returned.Fueled by curiosity and a desire to help her family and the village, Lily decided to embark on this perilous quest to find the magical jewel. She sought the advice of the village elder, a wise old woman named Elara, who had encountered the Enchanted Forest in her youth. Elara warned Lily of the forest's bewitching illusions and the importance of staying true to her heart's intentions throughout the journey.Armed with her parents' blessings and a backpack filled with supplies, Lily set out at the crack of dawn the next day. The forest welcomed her with a curtain of dense foliage, and the sunlight filtering through the leaves painted the ground with dancing patterns of light and shadows. She followed a faint trail, feeling a mix of excitement and trepidation.As Lily ventured deeper into the forest, she encountered its magical tricks. The trees seemed to change places, and the path often led her in circles. But she remembered Elara's words and relied on her intuition, which guided her through the confusing maze. Along the way, she met a talking squirrel named Nutkin, who offered to be her guide, intrigued by her courage and pure intentions.Nutkin led her through the forest's dangers, protecting her from the enchanted creatures and the illusions that tried to divert her from her quest. As they faced each challenge together, they forged a deep friendship, understanding the value of trust and loyalty.Finally, after days of journeying, they reached the heart of the Enchanted Forest, where the legendary jewel lay hidden. Lily approached the glowing gem with awe, but just as she reached out to touch it, a deep voice echoed through the woods. It was the guardian of the forest, a majestic ancient tree named Sylvan.Sylvan explained that the true power of the jewel lay not in its granting of wishes but in its ability to reveal the innermost desires of those who sought it. It could bring to light what truly mattered to a person and help them find their purpose. The guardian commended Lily for her selflessness, courage, and determination.In the end, Lily didn't take the jewel for herself, realizing that the love and support of her family and friends were more valuable than any wish. Instead, she asked the jewel to grant a single wish for the entire village – a bountiful harvest for their fields, so they would never go hungry again.As the jewel glowed brightly, its magic spread throughout the village and the surrounding lands. From that day on, the village prospered, and everyone lived in harmony and happiness. Lily's bravery and selflessness became legendary, and her name was forever etched in the hearts of the people.And so, the young girl who embarked on a daring quest in the Enchanted Forest discovered that the greatest treasures in life were not material possessions, but the bonds of love, friendship, and the satisfaction of knowing she had made a positive difference in the lives of others.\""
   ]
  },
  {
   "cell_type": "code",
   "execution_count": 32,
   "metadata": {},
   "outputs": [
    {
     "data": {
      "text/plain": [
       "3783"
      ]
     },
     "execution_count": 32,
     "metadata": {},
     "output_type": "execute_result"
    }
   ],
   "source": [
    "len(text)"
   ]
  },
  {
   "cell_type": "markdown",
   "metadata": {},
   "source": [
    "Importing the libraries and Datasets"
   ]
  },
  {
   "cell_type": "code",
   "execution_count": 13,
   "metadata": {},
   "outputs": [
    {
     "name": "stdout",
     "output_type": "stream",
     "text": [
      "\u001b[38;5;2m✔ Download and installation successful\u001b[0m\n",
      "You can now load the package via spacy.load('en_core_web_sm')\n"
     ]
    }
   ],
   "source": [
    "import spacy\n",
    "from spacy.lang.en.stop_words import STOP_WORDS\n",
    "from string import punctuation\n",
    "spacy.cli.download(\"en_core_web_sm\")"
   ]
  },
  {
   "cell_type": "code",
   "execution_count": 14,
   "metadata": {},
   "outputs": [],
   "source": [
    "nlp = spacy.load(\"en_core_web_sm\")"
   ]
  },
  {
   "cell_type": "code",
   "execution_count": 15,
   "metadata": {},
   "outputs": [],
   "source": [
    "doc=nlp(text)"
   ]
  },
  {
   "cell_type": "code",
   "execution_count": 16,
   "metadata": {},
   "outputs": [
    {
     "name": "stdout",
     "output_type": "stream",
     "text": [
      "['Once', 'upon', 'a', 'time', ',', 'in', 'a', 'quaint', 'village', 'nestled', 'between', 'rolling', 'hills', 'and', 'lush', 'forests', ',', 'there', 'lived', 'a', 'young', 'girl', 'named', 'Lily', '.', 'She', 'was', 'known', 'for', 'her', 'bright', 'eyes', ',', 'kind', 'heart', ',', 'and', 'a', 'keen', 'sense', 'of', 'adventure', '.', 'Lily', \"'s\", 'parents', 'owned', 'a', 'small', 'bakery', 'that', 'was', 'famous', 'for', 'its', 'delicious', 'pastries', ',', 'and', 'she', 'loved', 'spending', 'time', 'there', ',', 'helping', 'out', 'whenever', 'she', 'could', '.', 'One', 'sunny', 'morning', ',', 'as', 'Lily', 'was', 'walking', 'through', 'the', 'village', 'square', ',', 'she', 'noticed', 'a', 'peculiar', 'poster', 'pinned', 'to', 'a', 'bulletin', 'board', '.', 'It', 'was', 'an', 'announcement', 'about', 'a', 'legendary', 'treasure', 'hidden', 'deep', 'within', 'the', 'Enchanted', 'Forest', ',', 'a', 'mysterious', 'place', 'that', 'bordered', 'their', 'village', '.', 'The', 'poster', 'depicted', 'a', 'glimmering', 'jewel', 'said', 'to', 'grant', 'the', 'possessor', 'any', 'wish', 'their', 'heart', 'desired', '.', 'The', 'reward', 'was', 'enticing', ',', 'but', 'the', 'journey', 'through', 'the', 'Enchanted', 'Forest', 'was', 'known', 'to', 'be', 'treacherous', ',', 'and', 'many', 'who', 'had', 'ventured', 'in', 'never', 'returned', '.', 'Fueled', 'by', 'curiosity', 'and', 'a', 'desire', 'to', 'help', 'her', 'family', 'and', 'the', 'village', ',', 'Lily', 'decided', 'to', 'embark', 'on', 'this', 'perilous', 'quest', 'to', 'find', 'the', 'magical', 'jewel', '.', 'She', 'sought', 'the', 'advice', 'of', 'the', 'village', 'elder', ',', 'a', 'wise', 'old', 'woman', 'named', 'Elara', ',', 'who', 'had', 'encountered', 'the', 'Enchanted', 'Forest', 'in', 'her', 'youth', '.', 'Elara', 'warned', 'Lily', 'of', 'the', 'forest', \"'s\", 'bewitching', 'illusions', 'and', 'the', 'importance', 'of', 'staying', 'true', 'to', 'her', 'heart', \"'s\", 'intentions', 'throughout', 'the', 'journey', '.', 'Armed', 'with', 'her', 'parents', \"'\", 'blessings', 'and', 'a', 'backpack', 'filled', 'with', 'supplies', ',', 'Lily', 'set', 'out', 'at', 'the', 'crack', 'of', 'dawn', 'the', 'next', 'day', '.', 'The', 'forest', 'welcomed', 'her', 'with', 'a', 'curtain', 'of', 'dense', 'foliage', ',', 'and', 'the', 'sunlight', 'filtering', 'through', 'the', 'leaves', 'painted', 'the', 'ground', 'with', 'dancing', 'patterns', 'of', 'light', 'and', 'shadows', '.', 'She', 'followed', 'a', 'faint', 'trail', ',', 'feeling', 'a', 'mix', 'of', 'excitement', 'and', 'trepidation', '.', 'As', 'Lily', 'ventured', 'deeper', 'into', 'the', 'forest', ',', 'she', 'encountered', 'its', 'magical', 'tricks', '.', 'The', 'trees', 'seemed', 'to', 'change', 'places', ',', 'and', 'the', 'path', 'often', 'led', 'her', 'in', 'circles', '.', 'But', 'she', 'remembered', 'Elara', \"'s\", 'words', 'and', 'relied', 'on', 'her', 'intuition', ',', 'which', 'guided', 'her', 'through', 'the', 'confusing', 'maze', '.', 'Along', 'the', 'way', ',', 'she', 'met', 'a', 'talking', 'squirrel', 'named', 'Nutkin', ',', 'who', 'offered', 'to', 'be', 'her', 'guide', ',', 'intrigued', 'by', 'her', 'courage', 'and', 'pure', 'intentions', '.', 'Nutkin', 'led', 'her', 'through', 'the', 'forest', \"'s\", 'dangers', ',', 'protecting', 'her', 'from', 'the', 'enchanted', 'creatures', 'and', 'the', 'illusions', 'that', 'tried', 'to', 'divert', 'her', 'from', 'her', 'quest', '.', 'As', 'they', 'faced', 'each', 'challenge', 'together', ',', 'they', 'forged', 'a', 'deep', 'friendship', ',', 'understanding', 'the', 'value', 'of', 'trust', 'and', 'loyalty', '.', 'Finally', ',', 'after', 'days', 'of', 'journeying', ',', 'they', 'reached', 'the', 'heart', 'of', 'the', 'Enchanted', 'Forest', ',', 'where', 'the', 'legendary', 'jewel', 'lay', 'hidden', '.', 'Lily', 'approached', 'the', 'glowing', 'gem', 'with', 'awe', ',', 'but', 'just', 'as', 'she', 'reached', 'out', 'to', 'touch', 'it', ',', 'a', 'deep', 'voice', 'echoed', 'through', 'the', 'woods', '.', 'It', 'was', 'the', 'guardian', 'of', 'the', 'forest', ',', 'a', 'majestic', 'ancient', 'tree', 'named', 'Sylvan', '.', 'Sylvan', 'explained', 'that', 'the', 'true', 'power', 'of', 'the', 'jewel', 'lay', 'not', 'in', 'its', 'granting', 'of', 'wishes', 'but', 'in', 'its', 'ability', 'to', 'reveal', 'the', 'innermost', 'desires', 'of', 'those', 'who', 'sought', 'it', '.', 'It', 'could', 'bring', 'to', 'light', 'what', 'truly', 'mattered', 'to', 'a', 'person', 'and', 'help', 'them', 'find', 'their', 'purpose', '.', 'The', 'guardian', 'commended', 'Lily', 'for', 'her', 'selflessness', ',', 'courage', ',', 'and', 'determination', '.', 'In', 'the', 'end', ',', 'Lily', 'did', \"n't\", 'take', 'the', 'jewel', 'for', 'herself', ',', 'realizing', 'that', 'the', 'love', 'and', 'support', 'of', 'her', 'family', 'and', 'friends', 'were', 'more', 'valuable', 'than', 'any', 'wish', '.', 'Instead', ',', 'she', 'asked', 'the', 'jewel', 'to', 'grant', 'a', 'single', 'wish', 'for', 'the', 'entire', 'village', '–', 'a', 'bountiful', 'harvest', 'for', 'their', 'fields', ',', 'so', 'they', 'would', 'never', 'go', 'hungry', 'again', '.', 'As', 'the', 'jewel', 'glowed', 'brightly', ',', 'its', 'magic', 'spread', 'throughout', 'the', 'village', 'and', 'the', 'surrounding', 'lands', '.', 'From', 'that', 'day', 'on', ',', 'the', 'village', 'prospered', ',', 'and', 'everyone', 'lived', 'in', 'harmony', 'and', 'happiness', '.', 'Lily', \"'s\", 'bravery', 'and', 'selflessness', 'became', 'legendary', ',', 'and', 'her', 'name', 'was', 'forever', 'etched', 'in', 'the', 'hearts', 'of', 'the', 'people', '.', 'And', 'so', ',', 'the', 'young', 'girl', 'who', 'embarked', 'on', 'a', 'daring', 'quest', 'in', 'the', 'Enchanted', 'Forest', 'discovered', 'that', 'the', 'greatest', 'treasures', 'in', 'life', 'were', 'not', 'material', 'possessions', ',', 'but', 'the', 'bonds', 'of', 'love', ',', 'friendship', ',', 'and', 'the', 'satisfaction', 'of', 'knowing', 'she', 'had', 'made', 'a', 'positive', 'difference', 'in', 'the', 'lives', 'of', 'others', '.']\n"
     ]
    }
   ],
   "source": [
    "tokens=[token.text for token in doc]\n",
    "print(tokens)"
   ]
  },
  {
   "cell_type": "code",
   "execution_count": 17,
   "metadata": {},
   "outputs": [
    {
     "data": {
      "text/plain": [
       "'!\"#$%&\\'()*+,-./:;<=>?@[\\\\]^_`{|}~'"
      ]
     },
     "execution_count": 17,
     "metadata": {},
     "output_type": "execute_result"
    }
   ],
   "source": [
    "punctuation"
   ]
  },
  {
   "cell_type": "code",
   "execution_count": 18,
   "metadata": {},
   "outputs": [],
   "source": [
    "punctuation+='\\n'"
   ]
  },
  {
   "cell_type": "code",
   "execution_count": 19,
   "metadata": {},
   "outputs": [
    {
     "data": {
      "text/plain": [
       "'!\"#$%&\\'()*+,-./:;<=>?@[\\\\]^_`{|}~\\n'"
      ]
     },
     "execution_count": 19,
     "metadata": {},
     "output_type": "execute_result"
    }
   ],
   "source": [
    "punctuation"
   ]
  },
  {
   "cell_type": "markdown",
   "metadata": {},
   "source": [
    "Text Cleanning"
   ]
  },
  {
   "cell_type": "code",
   "execution_count": 22,
   "metadata": {},
   "outputs": [],
   "source": [
    "word_freq={}\n",
    "stop_words=list(STOP_WORDS)\n",
    "for word in doc:\n",
    "    if word.text.lower()not in stop_words:\n",
    "        if word.text.lower() not in punctuation:\n",
    "            if word.text not in word_freq.keys():\n",
    "                word_freq[word.text]=1\n",
    "            else:\n",
    "                word_freq[word.text]+=1\n",
    "            "
   ]
  },
  {
   "cell_type": "code",
   "execution_count": 23,
   "metadata": {},
   "outputs": [
    {
     "name": "stdout",
     "output_type": "stream",
     "text": [
      "{'time': 2, 'quaint': 1, 'village': 8, 'nestled': 1, 'rolling': 1, 'hills': 1, 'lush': 1, 'forests': 1, 'lived': 2, 'young': 2, 'girl': 2, 'named': 4, 'Lily': 11, 'known': 2, 'bright': 1, 'eyes': 1, 'kind': 1, 'heart': 4, 'keen': 1, 'sense': 1, 'adventure': 1, 'parents': 2, 'owned': 1, 'small': 1, 'bakery': 1, 'famous': 1, 'delicious': 1, 'pastries': 1, 'loved': 1, 'spending': 1, 'helping': 1, 'sunny': 1, 'morning': 1, 'walking': 1, 'square': 1, 'noticed': 1, 'peculiar': 1, 'poster': 2, 'pinned': 1, 'bulletin': 1, 'board': 1, 'announcement': 1, 'legendary': 3, 'treasure': 1, 'hidden': 2, 'deep': 3, 'Enchanted': 5, 'Forest': 5, 'mysterious': 1, 'place': 1, 'bordered': 1, 'depicted': 1, 'glimmering': 1, 'jewel': 7, 'said': 1, 'grant': 2, 'possessor': 1, 'wish': 3, 'desired': 1, 'reward': 1, 'enticing': 1, 'journey': 2, 'treacherous': 1, 'ventured': 2, 'returned': 1, 'Fueled': 1, 'curiosity': 1, 'desire': 1, 'help': 2, 'family': 2, 'decided': 1, 'embark': 1, 'perilous': 1, 'quest': 3, 'find': 2, 'magical': 2, 'sought': 2, 'advice': 1, 'elder': 1, 'wise': 1, 'old': 1, 'woman': 1, 'Elara': 3, 'encountered': 2, 'youth': 1, 'warned': 1, 'forest': 5, 'bewitching': 1, 'illusions': 2, 'importance': 1, 'staying': 1, 'true': 2, 'intentions': 2, 'Armed': 1, 'blessings': 1, 'backpack': 1, 'filled': 1, 'supplies': 1, 'set': 1, 'crack': 1, 'dawn': 1, 'day': 2, 'welcomed': 1, 'curtain': 1, 'dense': 1, 'foliage': 1, 'sunlight': 1, 'filtering': 1, 'leaves': 1, 'painted': 1, 'ground': 1, 'dancing': 1, 'patterns': 1, 'light': 2, 'shadows': 1, 'followed': 1, 'faint': 1, 'trail': 1, 'feeling': 1, 'mix': 1, 'excitement': 1, 'trepidation': 1, 'deeper': 1, 'tricks': 1, 'trees': 1, 'change': 1, 'places': 1, 'path': 1, 'led': 2, 'circles': 1, 'remembered': 1, 'words': 1, 'relied': 1, 'intuition': 1, 'guided': 1, 'confusing': 1, 'maze': 1, 'way': 1, 'met': 1, 'talking': 1, 'squirrel': 1, 'Nutkin': 2, 'offered': 1, 'guide': 1, 'intrigued': 1, 'courage': 2, 'pure': 1, 'dangers': 1, 'protecting': 1, 'enchanted': 1, 'creatures': 1, 'tried': 1, 'divert': 1, 'faced': 1, 'challenge': 1, 'forged': 1, 'friendship': 2, 'understanding': 1, 'value': 1, 'trust': 1, 'loyalty': 1, 'Finally': 1, 'days': 1, 'journeying': 1, 'reached': 2, 'lay': 2, 'approached': 1, 'glowing': 1, 'gem': 1, 'awe': 1, 'touch': 1, 'voice': 1, 'echoed': 1, 'woods': 1, 'guardian': 2, 'majestic': 1, 'ancient': 1, 'tree': 1, 'Sylvan': 2, 'explained': 1, 'power': 1, 'granting': 1, 'wishes': 1, 'ability': 1, 'reveal': 1, 'innermost': 1, 'desires': 1, 'bring': 1, 'truly': 1, 'mattered': 1, 'person': 1, 'purpose': 1, 'commended': 1, 'selflessness': 2, 'determination': 1, 'end': 1, 'realizing': 1, 'love': 2, 'support': 1, 'friends': 1, 'valuable': 1, 'Instead': 1, 'asked': 1, 'single': 1, 'entire': 1, '–': 1, 'bountiful': 1, 'harvest': 1, 'fields': 1, 'hungry': 1, 'glowed': 1, 'brightly': 1, 'magic': 1, 'spread': 1, 'surrounding': 1, 'lands': 1, 'prospered': 1, 'harmony': 1, 'happiness': 1, 'bravery': 1, 'forever': 1, 'etched': 1, 'hearts': 1, 'people': 1, 'embarked': 1, 'daring': 1, 'discovered': 1, 'greatest': 1, 'treasures': 1, 'life': 1, 'material': 1, 'possessions': 1, 'bonds': 1, 'satisfaction': 1, 'knowing': 1, 'positive': 1, 'difference': 1, 'lives': 1}\n"
     ]
    }
   ],
   "source": [
    "print(word_freq)"
   ]
  },
  {
   "cell_type": "code",
   "execution_count": 25,
   "metadata": {},
   "outputs": [],
   "source": [
    "max_freq=max(word_freq.values())"
   ]
  },
  {
   "cell_type": "code",
   "execution_count": 26,
   "metadata": {},
   "outputs": [],
   "source": [
    "for word in word_freq.keys():\n",
    "    word_freq[word]/=max_freq"
   ]
  },
  {
   "cell_type": "code",
   "execution_count": 27,
   "metadata": {},
   "outputs": [
    {
     "name": "stdout",
     "output_type": "stream",
     "text": [
      "{'time': 0.18181818181818182, 'quaint': 0.09090909090909091, 'village': 0.7272727272727273, 'nestled': 0.09090909090909091, 'rolling': 0.09090909090909091, 'hills': 0.09090909090909091, 'lush': 0.09090909090909091, 'forests': 0.09090909090909091, 'lived': 0.18181818181818182, 'young': 0.18181818181818182, 'girl': 0.18181818181818182, 'named': 0.36363636363636365, 'Lily': 1.0, 'known': 0.18181818181818182, 'bright': 0.09090909090909091, 'eyes': 0.09090909090909091, 'kind': 0.09090909090909091, 'heart': 0.36363636363636365, 'keen': 0.09090909090909091, 'sense': 0.09090909090909091, 'adventure': 0.09090909090909091, 'parents': 0.18181818181818182, 'owned': 0.09090909090909091, 'small': 0.09090909090909091, 'bakery': 0.09090909090909091, 'famous': 0.09090909090909091, 'delicious': 0.09090909090909091, 'pastries': 0.09090909090909091, 'loved': 0.09090909090909091, 'spending': 0.09090909090909091, 'helping': 0.09090909090909091, 'sunny': 0.09090909090909091, 'morning': 0.09090909090909091, 'walking': 0.09090909090909091, 'square': 0.09090909090909091, 'noticed': 0.09090909090909091, 'peculiar': 0.09090909090909091, 'poster': 0.18181818181818182, 'pinned': 0.09090909090909091, 'bulletin': 0.09090909090909091, 'board': 0.09090909090909091, 'announcement': 0.09090909090909091, 'legendary': 0.2727272727272727, 'treasure': 0.09090909090909091, 'hidden': 0.18181818181818182, 'deep': 0.2727272727272727, 'Enchanted': 0.45454545454545453, 'Forest': 0.45454545454545453, 'mysterious': 0.09090909090909091, 'place': 0.09090909090909091, 'bordered': 0.09090909090909091, 'depicted': 0.09090909090909091, 'glimmering': 0.09090909090909091, 'jewel': 0.6363636363636364, 'said': 0.09090909090909091, 'grant': 0.18181818181818182, 'possessor': 0.09090909090909091, 'wish': 0.2727272727272727, 'desired': 0.09090909090909091, 'reward': 0.09090909090909091, 'enticing': 0.09090909090909091, 'journey': 0.18181818181818182, 'treacherous': 0.09090909090909091, 'ventured': 0.18181818181818182, 'returned': 0.09090909090909091, 'Fueled': 0.09090909090909091, 'curiosity': 0.09090909090909091, 'desire': 0.09090909090909091, 'help': 0.18181818181818182, 'family': 0.18181818181818182, 'decided': 0.09090909090909091, 'embark': 0.09090909090909091, 'perilous': 0.09090909090909091, 'quest': 0.2727272727272727, 'find': 0.18181818181818182, 'magical': 0.18181818181818182, 'sought': 0.18181818181818182, 'advice': 0.09090909090909091, 'elder': 0.09090909090909091, 'wise': 0.09090909090909091, 'old': 0.09090909090909091, 'woman': 0.09090909090909091, 'Elara': 0.2727272727272727, 'encountered': 0.18181818181818182, 'youth': 0.09090909090909091, 'warned': 0.09090909090909091, 'forest': 0.45454545454545453, 'bewitching': 0.09090909090909091, 'illusions': 0.18181818181818182, 'importance': 0.09090909090909091, 'staying': 0.09090909090909091, 'true': 0.18181818181818182, 'intentions': 0.18181818181818182, 'Armed': 0.09090909090909091, 'blessings': 0.09090909090909091, 'backpack': 0.09090909090909091, 'filled': 0.09090909090909091, 'supplies': 0.09090909090909091, 'set': 0.09090909090909091, 'crack': 0.09090909090909091, 'dawn': 0.09090909090909091, 'day': 0.18181818181818182, 'welcomed': 0.09090909090909091, 'curtain': 0.09090909090909091, 'dense': 0.09090909090909091, 'foliage': 0.09090909090909091, 'sunlight': 0.09090909090909091, 'filtering': 0.09090909090909091, 'leaves': 0.09090909090909091, 'painted': 0.09090909090909091, 'ground': 0.09090909090909091, 'dancing': 0.09090909090909091, 'patterns': 0.09090909090909091, 'light': 0.18181818181818182, 'shadows': 0.09090909090909091, 'followed': 0.09090909090909091, 'faint': 0.09090909090909091, 'trail': 0.09090909090909091, 'feeling': 0.09090909090909091, 'mix': 0.09090909090909091, 'excitement': 0.09090909090909091, 'trepidation': 0.09090909090909091, 'deeper': 0.09090909090909091, 'tricks': 0.09090909090909091, 'trees': 0.09090909090909091, 'change': 0.09090909090909091, 'places': 0.09090909090909091, 'path': 0.09090909090909091, 'led': 0.18181818181818182, 'circles': 0.09090909090909091, 'remembered': 0.09090909090909091, 'words': 0.09090909090909091, 'relied': 0.09090909090909091, 'intuition': 0.09090909090909091, 'guided': 0.09090909090909091, 'confusing': 0.09090909090909091, 'maze': 0.09090909090909091, 'way': 0.09090909090909091, 'met': 0.09090909090909091, 'talking': 0.09090909090909091, 'squirrel': 0.09090909090909091, 'Nutkin': 0.18181818181818182, 'offered': 0.09090909090909091, 'guide': 0.09090909090909091, 'intrigued': 0.09090909090909091, 'courage': 0.18181818181818182, 'pure': 0.09090909090909091, 'dangers': 0.09090909090909091, 'protecting': 0.09090909090909091, 'enchanted': 0.09090909090909091, 'creatures': 0.09090909090909091, 'tried': 0.09090909090909091, 'divert': 0.09090909090909091, 'faced': 0.09090909090909091, 'challenge': 0.09090909090909091, 'forged': 0.09090909090909091, 'friendship': 0.18181818181818182, 'understanding': 0.09090909090909091, 'value': 0.09090909090909091, 'trust': 0.09090909090909091, 'loyalty': 0.09090909090909091, 'Finally': 0.09090909090909091, 'days': 0.09090909090909091, 'journeying': 0.09090909090909091, 'reached': 0.18181818181818182, 'lay': 0.18181818181818182, 'approached': 0.09090909090909091, 'glowing': 0.09090909090909091, 'gem': 0.09090909090909091, 'awe': 0.09090909090909091, 'touch': 0.09090909090909091, 'voice': 0.09090909090909091, 'echoed': 0.09090909090909091, 'woods': 0.09090909090909091, 'guardian': 0.18181818181818182, 'majestic': 0.09090909090909091, 'ancient': 0.09090909090909091, 'tree': 0.09090909090909091, 'Sylvan': 0.18181818181818182, 'explained': 0.09090909090909091, 'power': 0.09090909090909091, 'granting': 0.09090909090909091, 'wishes': 0.09090909090909091, 'ability': 0.09090909090909091, 'reveal': 0.09090909090909091, 'innermost': 0.09090909090909091, 'desires': 0.09090909090909091, 'bring': 0.09090909090909091, 'truly': 0.09090909090909091, 'mattered': 0.09090909090909091, 'person': 0.09090909090909091, 'purpose': 0.09090909090909091, 'commended': 0.09090909090909091, 'selflessness': 0.18181818181818182, 'determination': 0.09090909090909091, 'end': 0.09090909090909091, 'realizing': 0.09090909090909091, 'love': 0.18181818181818182, 'support': 0.09090909090909091, 'friends': 0.09090909090909091, 'valuable': 0.09090909090909091, 'Instead': 0.09090909090909091, 'asked': 0.09090909090909091, 'single': 0.09090909090909091, 'entire': 0.09090909090909091, '–': 0.09090909090909091, 'bountiful': 0.09090909090909091, 'harvest': 0.09090909090909091, 'fields': 0.09090909090909091, 'hungry': 0.09090909090909091, 'glowed': 0.09090909090909091, 'brightly': 0.09090909090909091, 'magic': 0.09090909090909091, 'spread': 0.09090909090909091, 'surrounding': 0.09090909090909091, 'lands': 0.09090909090909091, 'prospered': 0.09090909090909091, 'harmony': 0.09090909090909091, 'happiness': 0.09090909090909091, 'bravery': 0.09090909090909091, 'forever': 0.09090909090909091, 'etched': 0.09090909090909091, 'hearts': 0.09090909090909091, 'people': 0.09090909090909091, 'embarked': 0.09090909090909091, 'daring': 0.09090909090909091, 'discovered': 0.09090909090909091, 'greatest': 0.09090909090909091, 'treasures': 0.09090909090909091, 'life': 0.09090909090909091, 'material': 0.09090909090909091, 'possessions': 0.09090909090909091, 'bonds': 0.09090909090909091, 'satisfaction': 0.09090909090909091, 'knowing': 0.09090909090909091, 'positive': 0.09090909090909091, 'difference': 0.09090909090909091, 'lives': 0.09090909090909091}\n"
     ]
    }
   ],
   "source": [
    "print(word_freq)"
   ]
  },
  {
   "cell_type": "markdown",
   "metadata": {},
   "source": [
    "Sentence Tokenization"
   ]
  },
  {
   "cell_type": "code",
   "execution_count": 33,
   "metadata": {},
   "outputs": [
    {
     "name": "stdout",
     "output_type": "stream",
     "text": [
      "[Once upon a time, in a quaint village nestled between rolling hills and lush forests, there lived a young girl named Lily., She was known for her bright eyes, kind heart, and a keen sense of adventure., Lily's parents owned a small bakery that was famous for its delicious pastries, and she loved spending time there, helping out whenever she could., One sunny morning, as Lily was walking through the village square, she noticed a peculiar poster pinned to a bulletin board., It was an announcement about a legendary treasure hidden deep within the Enchanted Forest, a mysterious place that bordered their village., The poster depicted a glimmering jewel said to grant the possessor any wish their heart desired., The reward was enticing, but the journey through the Enchanted Forest was known to be treacherous, and many who had ventured in never returned., Fueled by curiosity and a desire to help her family and the village, Lily decided to embark on this perilous quest to find the magical jewel., She sought the advice of the village elder, a wise old woman named Elara, who had encountered the Enchanted Forest in her youth., Elara warned Lily of the forest's bewitching illusions and the importance of staying true to her heart's intentions throughout the journey., Armed with her parents' blessings and a backpack filled with supplies, Lily set out at the crack of dawn the next day., The forest welcomed her with a curtain of dense foliage, and the sunlight filtering through the leaves painted the ground with dancing patterns of light and shadows., She followed a faint trail, feeling a mix of excitement and trepidation., As Lily ventured deeper into the forest, she encountered its magical tricks., The trees seemed to change places, and the path often led her in circles., But she remembered Elara's words and relied on her intuition, which guided her through the confusing maze., Along the way, she met a talking squirrel named Nutkin, who offered to be her guide, intrigued by her courage and pure intentions., Nutkin led her through the forest's dangers, protecting her from the enchanted creatures and the illusions that tried to divert her from her quest., As they faced each challenge together, they forged a deep friendship, understanding the value of trust and loyalty., Finally, after days of journeying, they reached the heart of the Enchanted Forest, where the legendary jewel lay hidden., Lily approached the glowing gem with awe, but just as she reached out to touch it, a deep voice echoed through the woods., It was the guardian of the forest, a majestic ancient tree named Sylvan., Sylvan explained that the true power of the jewel lay not in its granting of wishes but in its ability to reveal the innermost desires of those who sought it., It could bring to light what truly mattered to a person and help them find their purpose., The guardian commended Lily for her selflessness, courage, and determination., In the end, Lily didn't take the jewel for herself, realizing that the love and support of her family and friends were more valuable than any wish., Instead, she asked the jewel to grant a single wish for the entire village – a bountiful harvest for their fields, so they would never go hungry again., As the jewel glowed brightly, its magic spread throughout the village and the surrounding lands., From that day on, the village prospered, and everyone lived in harmony and happiness., Lily's bravery and selflessness became legendary, and her name was forever etched in the hearts of the people., And so, the young girl who embarked on a daring quest in the Enchanted Forest discovered that the greatest treasures in life were not material possessions, but the bonds of love, friendship, and the satisfaction of knowing she had made a positive difference in the lives of others.]\n"
     ]
    }
   ],
   "source": [
    "sent_tokens=[sent for sent in doc.sents]\n",
    "print(sent_tokens)"
   ]
  },
  {
   "cell_type": "code",
   "execution_count": 34,
   "metadata": {},
   "outputs": [],
   "source": [
    "sent_score={}\n",
    "for sent in sent_tokens:\n",
    "    for word in sent:\n",
    "        if word.text.lower() in word_freq.keys():\n",
    "            if sent not in sent_score.keys():\n",
    "                sent_score[sent]=word_freq[word.text.lower()]\n",
    "            else:\n",
    "                sent_score[sent]+=word_freq[word.text.lower()] "
   ]
  },
  {
   "cell_type": "code",
   "execution_count": 35,
   "metadata": {},
   "outputs": [
    {
     "name": "stdout",
     "output_type": "stream",
     "text": [
      "{Once upon a time, in a quaint village nestled between rolling hills and lush forests, there lived a young girl named Lily.: 2.3636363636363633, She was known for her bright eyes, kind heart, and a keen sense of adventure.: 1.0909090909090908, Lily's parents owned a small bakery that was famous for its delicious pastries, and she loved spending time there, helping out whenever she could.: 1.1818181818181819, One sunny morning, as Lily was walking through the village square, she noticed a peculiar poster pinned to a bulletin board.: 1.7272727272727268, It was an announcement about a legendary treasure hidden deep within the Enchanted Forest, a mysterious place that bordered their village.: 2.454545454545454, The poster depicted a glimmering jewel said to grant the possessor any wish their heart desired.: 2.090909090909091, The reward was enticing, but the journey through the Enchanted Forest was known to be treacherous, and many who had ventured in never returned.: 1.4545454545454546, Fueled by curiosity and a desire to help her family and the village, Lily decided to embark on this perilous quest to find the magical jewel.: 2.818181818181818, She sought the advice of the village elder, a wise old woman named Elara, who had encountered the Enchanted Forest in her youth.: 2.545454545454545, Elara warned Lily of the forest's bewitching illusions and the importance of staying true to her heart's intentions throughout the journey.: 1.9090909090909092, Armed with her parents' blessings and a backpack filled with supplies, Lily set out at the crack of dawn the next day.: 1.0000000000000002, The forest welcomed her with a curtain of dense foliage, and the sunlight filtering through the leaves painted the ground with dancing patterns of light and shadows.: 1.7272727272727268, She followed a faint trail, feeling a mix of excitement and trepidation.: 0.6363636363636365, As Lily ventured deeper into the forest, she encountered its magical tricks.: 1.1818181818181819, The trees seemed to change places, and the path often led her in circles.: 0.6363636363636364, But she remembered Elara's words and relied on her intuition, which guided her through the confusing maze.: 0.6363636363636365, Along the way, she met a talking squirrel named Nutkin, who offered to be her guide, intrigued by her courage and pure intentions.: 1.4545454545454546, Nutkin led her through the forest's dangers, protecting her from the enchanted creatures and the illusions that tried to divert her from her quest.: 1.6363636363636362, As they faced each challenge together, they forged a deep friendship, understanding the value of trust and loyalty.: 1.0909090909090908, Finally, after days of journeying, they reached the heart of the Enchanted Forest, where the legendary jewel lay hidden.: 2.545454545454545, Lily approached the glowing gem with awe, but just as she reached out to touch it, a deep voice echoed through the woods.: 1.1818181818181817, It was the guardian of the forest, a majestic ancient tree named Sylvan.: 1.272727272727273, Sylvan explained that the true power of the jewel lay not in its granting of wishes but in its ability to reveal the innermost desires of those who sought it.: 1.9090909090909087, It could bring to light what truly mattered to a person and help them find their purpose.: 1.0, The guardian commended Lily for her selflessness, courage, and determination.: 0.7272727272727273, In the end, Lily didn't take the jewel for herself, realizing that the love and support of her family and friends were more valuable than any wish.: 1.727272727272727, Instead, she asked the jewel to grant a single wish for the entire village – a bountiful harvest for their fields, so they would never go hungry again.: 2.545454545454545, As the jewel glowed brightly, its magic spread throughout the village and the surrounding lands.: 1.909090909090909, From that day on, the village prospered, and everyone lived in harmony and happiness.: 1.3636363636363635, Lily's bravery and selflessness became legendary, and her name was forever etched in the hearts of the people.: 0.9090909090909092, And so, the young girl who embarked on a daring quest in the Enchanted Forest discovered that the greatest treasures in life were not material possessions, but the bonds of love, friendship, and the satisfaction of knowing she had made a positive difference in the lives of others.: 2.818181818181817}\n"
     ]
    }
   ],
   "source": [
    "print(sent_score)"
   ]
  },
  {
   "cell_type": "markdown",
   "metadata": {},
   "source": [
    "Select 30% sentences with maximum score"
   ]
  },
  {
   "cell_type": "code",
   "execution_count": null,
   "metadata": {},
   "outputs": [],
   "source": [
    "from heapq import nlargest"
   ]
  },
  {
   "cell_type": "code",
   "execution_count": 38,
   "metadata": {},
   "outputs": [
    {
     "ename": "NameError",
     "evalue": "name 'ceil' is not defined",
     "output_type": "error",
     "traceback": [
      "\u001b[1;31m---------------------------------------------------------------------------\u001b[0m",
      "\u001b[1;31mNameError\u001b[0m                                 Traceback (most recent call last)",
      "Cell \u001b[1;32mIn[38], line 1\u001b[0m\n\u001b[1;32m----> 1\u001b[0m ceil(\u001b[39mlen\u001b[39m(sent_score)\u001b[39m*\u001b[39m\u001b[39m0.3\u001b[39m)\n",
      "\u001b[1;31mNameError\u001b[0m: name 'ceil' is not defined"
     ]
    }
   ],
   "source": []
  },
  {
   "cell_type": "code",
   "execution_count": null,
   "metadata": {},
   "outputs": [],
   "source": [
    " "
   ]
  }
 ],
 "metadata": {
  "kernelspec": {
   "display_name": "Python 3",
   "language": "python",
   "name": "python3"
  },
  "language_info": {
   "codemirror_mode": {
    "name": "ipython",
    "version": 3
   },
   "file_extension": ".py",
   "mimetype": "text/x-python",
   "name": "python",
   "nbconvert_exporter": "python",
   "pygments_lexer": "ipython3",
   "version": "3.10.11"
  },
  "orig_nbformat": 4
 },
 "nbformat": 4,
 "nbformat_minor": 2
}
